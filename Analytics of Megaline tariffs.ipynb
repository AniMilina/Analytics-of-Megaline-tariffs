{
 "cells": [
  {
   "cell_type": "code",
   "execution_count": 1,
   "metadata": {
    "deletable": false
   },
   "outputs": [],
   "source": [
    "import pandas as pd"
   ]
  },
  {
   "cell_type": "markdown",
   "metadata": {
    "deletable": false,
    "editable": false
   },
   "source": [
    "### Откройте файл с данными и изучите общую информацию"
   ]
  },
  {
   "cell_type": "markdown",
   "metadata": {
    "deletable": false,
    "editable": false,
    "tags": [
     "start_task"
    ]
   },
   "source": [
    "**Задание 1.** Откройте файл `/datasets/calls.csv`, сохраните датафрейм в переменную `calls`."
   ]
  },
  {
   "cell_type": "code",
   "execution_count": 65,
   "metadata": {
    "deletable": false
   },
   "outputs": [],
   "source": [
    "calls = pd.read_csv('/datasets/calls.csv')"
   ]
  },
  {
   "cell_type": "markdown",
   "metadata": {
    "deletable": false,
    "editable": false,
    "tags": [
     "start_task"
    ]
   },
   "source": [
    "**Задание 2.** Выведите первые 5 строк датафрейма `calls`."
   ]
  },
  {
   "cell_type": "code",
   "execution_count": 66,
   "metadata": {
    "deletable": false
   },
   "outputs": [
    {
     "data": {
      "text/html": [
       "<div>\n",
       "<style scoped>\n",
       "    .dataframe tbody tr th:only-of-type {\n",
       "        vertical-align: middle;\n",
       "    }\n",
       "\n",
       "    .dataframe tbody tr th {\n",
       "        vertical-align: top;\n",
       "    }\n",
       "\n",
       "    .dataframe thead th {\n",
       "        text-align: right;\n",
       "    }\n",
       "</style>\n",
       "<table border=\"1\" class=\"dataframe\">\n",
       "  <thead>\n",
       "    <tr style=\"text-align: right;\">\n",
       "      <th></th>\n",
       "      <th>id</th>\n",
       "      <th>call_date</th>\n",
       "      <th>duration</th>\n",
       "      <th>user_id</th>\n",
       "    </tr>\n",
       "  </thead>\n",
       "  <tbody>\n",
       "    <tr>\n",
       "      <th>0</th>\n",
       "      <td>1000_0</td>\n",
       "      <td>2018-07-25</td>\n",
       "      <td>0.00</td>\n",
       "      <td>1000</td>\n",
       "    </tr>\n",
       "    <tr>\n",
       "      <th>1</th>\n",
       "      <td>1000_1</td>\n",
       "      <td>2018-08-17</td>\n",
       "      <td>0.00</td>\n",
       "      <td>1000</td>\n",
       "    </tr>\n",
       "    <tr>\n",
       "      <th>2</th>\n",
       "      <td>1000_2</td>\n",
       "      <td>2018-06-11</td>\n",
       "      <td>2.85</td>\n",
       "      <td>1000</td>\n",
       "    </tr>\n",
       "    <tr>\n",
       "      <th>3</th>\n",
       "      <td>1000_3</td>\n",
       "      <td>2018-09-21</td>\n",
       "      <td>13.80</td>\n",
       "      <td>1000</td>\n",
       "    </tr>\n",
       "    <tr>\n",
       "      <th>4</th>\n",
       "      <td>1000_4</td>\n",
       "      <td>2018-12-15</td>\n",
       "      <td>5.18</td>\n",
       "      <td>1000</td>\n",
       "    </tr>\n",
       "  </tbody>\n",
       "</table>\n",
       "</div>"
      ],
      "text/plain": [
       "       id   call_date  duration  user_id\n",
       "0  1000_0  2018-07-25      0.00     1000\n",
       "1  1000_1  2018-08-17      0.00     1000\n",
       "2  1000_2  2018-06-11      2.85     1000\n",
       "3  1000_3  2018-09-21     13.80     1000\n",
       "4  1000_4  2018-12-15      5.18     1000"
      ]
     },
     "execution_count": 66,
     "metadata": {},
     "output_type": "execute_result"
    }
   ],
   "source": [
    "calls.head(5)"
   ]
  },
  {
   "cell_type": "markdown",
   "metadata": {
    "deletable": false,
    "editable": false,
    "tags": [
     "start_task"
    ]
   },
   "source": [
    "**Задание 3.** Выведите основную информацию для датафрейма `calls` с помощью метода `info()`."
   ]
  },
  {
   "cell_type": "code",
   "execution_count": 67,
   "metadata": {
    "deletable": false
   },
   "outputs": [
    {
     "name": "stdout",
     "output_type": "stream",
     "text": [
      "<class 'pandas.core.frame.DataFrame'>\n",
      "RangeIndex: 202607 entries, 0 to 202606\n",
      "Data columns (total 4 columns):\n",
      " #   Column     Non-Null Count   Dtype  \n",
      "---  ------     --------------   -----  \n",
      " 0   id         202607 non-null  object \n",
      " 1   call_date  202607 non-null  object \n",
      " 2   duration   202607 non-null  float64\n",
      " 3   user_id    202607 non-null  int64  \n",
      "dtypes: float64(1), int64(1), object(2)\n",
      "memory usage: 6.2+ MB\n"
     ]
    }
   ],
   "source": [
    "calls.info()"
   ]
  },
  {
   "cell_type": "markdown",
   "metadata": {
    "deletable": false,
    "editable": false,
    "tags": [
     "start_task"
    ]
   },
   "source": [
    "**Задание 4.** С помощью метода `hist()` выведите гистограмму для столбца с продолжительностью звонков. Подумайте о том, как распределены данные."
   ]
  },
  {
   "cell_type": "code",
   "execution_count": 68,
   "metadata": {
    "deletable": false
   },
   "outputs": [
    {
     "data": {
      "text/plain": [
       "<AxesSubplot:>"
      ]
     },
     "execution_count": 68,
     "metadata": {},
     "output_type": "execute_result"
    },
    {
     "data": {
      "image/png": "[encoded data removed]",
      "text/plain": [
       "<Figure size 432x288 with 1 Axes>"
      ]
     },
     "metadata": {
      "needs_background": "light"
     },
     "output_type": "display_data"
    }
   ],
   "source": [
    "calls['duration'].hist()"
   ]
  },
  {
   "cell_type": "markdown",
   "metadata": {},
   "source": [
    "Очевидно, что преобладают звонки продолжительностью до 5 минут"
   ]
  },
  {
   "cell_type": "markdown",
   "metadata": {
    "deletable": false,
    "editable": false,
    "tags": [
     "start_task"
    ]
   },
   "source": [
    "**Задание 5.** Откройте файл `/datasets/internet.csv`, сохраните датафрейм в переменную `sessions`."
   ]
  },
  {
   "cell_type": "code",
   "execution_count": 69,
   "metadata": {
    "deletable": false
   },
   "outputs": [],
   "source": [
    "sessions = pd.read_csv('/datasets/internet.csv')"
   ]
  },
  {
   "cell_type": "markdown",
   "metadata": {
    "deletable": false,
    "editable": false,
    "tags": [
     "start_task"
    ]
   },
   "source": [
    "**Задание 6.** Выведите первые 5 строк датафрейма `sessions`."
   ]
  },
  {
   "cell_type": "code",
   "execution_count": 70,
   "metadata": {
    "deletable": false
   },
   "outputs": [
    {
     "data": {
      "text/html": [
       "<div>\n",
       "<style scoped>\n",
       "    .dataframe tbody tr th:only-of-type {\n",
       "        vertical-align: middle;\n",
       "    }\n",
       "\n",
       "    .dataframe tbody tr th {\n",
       "        vertical-align: top;\n",
       "    }\n",
       "\n",
       "    .dataframe thead th {\n",
       "        text-align: right;\n",
       "    }\n",
       "</style>\n",
       "<table border=\"1\" class=\"dataframe\">\n",
       "  <thead>\n",
       "    <tr style=\"text-align: right;\">\n",
       "      <th></th>\n",
       "      <th>Unnamed: 0</th>\n",
       "      <th>id</th>\n",
       "      <th>mb_used</th>\n",
       "      <th>session_date</th>\n",
       "      <th>user_id</th>\n",
       "    </tr>\n",
       "  </thead>\n",
       "  <tbody>\n",
       "    <tr>\n",
       "      <th>0</th>\n",
       "      <td>0</td>\n",
       "      <td>1000_0</td>\n",
       "      <td>112.95</td>\n",
       "      <td>2018-11-25</td>\n",
       "      <td>1000</td>\n",
       "    </tr>\n",
       "    <tr>\n",
       "      <th>1</th>\n",
       "      <td>1</td>\n",
       "      <td>1000_1</td>\n",
       "      <td>1052.81</td>\n",
       "      <td>2018-09-07</td>\n",
       "      <td>1000</td>\n",
       "    </tr>\n",
       "    <tr>\n",
       "      <th>2</th>\n",
       "      <td>2</td>\n",
       "      <td>1000_2</td>\n",
       "      <td>1197.26</td>\n",
       "      <td>2018-06-25</td>\n",
       "      <td>1000</td>\n",
       "    </tr>\n",
       "    <tr>\n",
       "      <th>3</th>\n",
       "      <td>3</td>\n",
       "      <td>1000_3</td>\n",
       "      <td>550.27</td>\n",
       "      <td>2018-08-22</td>\n",
       "      <td>1000</td>\n",
       "    </tr>\n",
       "    <tr>\n",
       "      <th>4</th>\n",
       "      <td>4</td>\n",
       "      <td>1000_4</td>\n",
       "      <td>302.56</td>\n",
       "      <td>2018-09-24</td>\n",
       "      <td>1000</td>\n",
       "    </tr>\n",
       "  </tbody>\n",
       "</table>\n",
       "</div>"
      ],
      "text/plain": [
       "   Unnamed: 0      id  mb_used session_date  user_id\n",
       "0           0  1000_0   112.95   2018-11-25     1000\n",
       "1           1  1000_1  1052.81   2018-09-07     1000\n",
       "2           2  1000_2  1197.26   2018-06-25     1000\n",
       "3           3  1000_3   550.27   2018-08-22     1000\n",
       "4           4  1000_4   302.56   2018-09-24     1000"
      ]
     },
     "execution_count": 70,
     "metadata": {},
     "output_type": "execute_result"
    }
   ],
   "source": [
    "sessions.head(5)"
   ]
  },
  {
   "cell_type": "markdown",
   "metadata": {
    "deletable": false,
    "editable": false,
    "tags": [
     "start_task"
    ]
   },
   "source": [
    "**Задание 7.** Выведите основную информацию для датафрейма sessions с помощью метода `info()`. "
   ]
  },
  {
   "cell_type": "code",
   "execution_count": 71,
   "metadata": {
    "deletable": false
   },
   "outputs": [
    {
     "name": "stdout",
     "output_type": "stream",
     "text": [
      "<class 'pandas.core.frame.DataFrame'>\n",
      "RangeIndex: 149396 entries, 0 to 149395\n",
      "Data columns (total 5 columns):\n",
      " #   Column        Non-Null Count   Dtype  \n",
      "---  ------        --------------   -----  \n",
      " 0   Unnamed: 0    149396 non-null  int64  \n",
      " 1   id            149396 non-null  object \n",
      " 2   mb_used       149396 non-null  float64\n",
      " 3   session_date  149396 non-null  object \n",
      " 4   user_id       149396 non-null  int64  \n",
      "dtypes: float64(1), int64(2), object(2)\n",
      "memory usage: 5.7+ MB\n"
     ]
    }
   ],
   "source": [
    "sessions.info()"
   ]
  },
  {
   "cell_type": "markdown",
   "metadata": {
    "deletable": false,
    "editable": false,
    "tags": [
     "start_task"
    ]
   },
   "source": [
    "**Задание 8.** С помощью метода `hist()` выведите гистограмму для столбца с количеством потраченных мегабайт."
   ]
  },
  {
   "cell_type": "code",
   "execution_count": 72,
   "metadata": {
    "deletable": false
   },
   "outputs": [
    {
     "data": {
      "text/plain": [
       "<AxesSubplot:>"
      ]
     },
     "execution_count": 72,
     "metadata": {},
     "output_type": "execute_result"
    },
    {
     "data": {
      "image/png": "[encoded data removed]",
      "text/plain": [
       "<Figure size 432x288 with 1 Axes>"
      ]
     },
     "metadata": {
      "needs_background": "light"
     },
     "output_type": "display_data"
    }
   ],
   "source": [
    "sessions['mb_used'].hist()"
   ]
  },
  {
   "cell_type": "markdown",
   "metadata": {
    "deletable": false,
    "editable": false,
    "tags": [
     "start_task"
    ]
   },
   "source": [
    "**Задание 9.** Откройте файл `/datasets/messages.csv`, сохраните датафрейм в переменную `messages`."
   ]
  },
  {
   "cell_type": "code",
   "execution_count": 73,
   "metadata": {
    "deletable": false
   },
   "outputs": [],
   "source": [
    "messages = pd.read_csv('/datasets/messages.csv')"
   ]
  },
  {
   "cell_type": "markdown",
   "metadata": {
    "deletable": false,
    "editable": false,
    "tags": [
     "start_task"
    ]
   },
   "source": [
    "**Задание 10.** Выведите первые 5 строк датафрейма `messages`."
   ]
  },
  {
   "cell_type": "code",
   "execution_count": 74,
   "metadata": {
    "deletable": false
   },
   "outputs": [
    {
     "data": {
      "text/html": [
       "<div>\n",
       "<style scoped>\n",
       "    .dataframe tbody tr th:only-of-type {\n",
       "        vertical-align: middle;\n",
       "    }\n",
       "\n",
       "    .dataframe tbody tr th {\n",
       "        vertical-align: top;\n",
       "    }\n",
       "\n",
       "    .dataframe thead th {\n",
       "        text-align: right;\n",
       "    }\n",
       "</style>\n",
       "<table border=\"1\" class=\"dataframe\">\n",
       "  <thead>\n",
       "    <tr style=\"text-align: right;\">\n",
       "      <th></th>\n",
       "      <th>id</th>\n",
       "      <th>message_date</th>\n",
       "      <th>user_id</th>\n",
       "    </tr>\n",
       "  </thead>\n",
       "  <tbody>\n",
       "    <tr>\n",
       "      <th>0</th>\n",
       "      <td>1000_0</td>\n",
       "      <td>2018-06-27</td>\n",
       "      <td>1000</td>\n",
       "    </tr>\n",
       "    <tr>\n",
       "      <th>1</th>\n",
       "      <td>1000_1</td>\n",
       "      <td>2018-10-08</td>\n",
       "      <td>1000</td>\n",
       "    </tr>\n",
       "    <tr>\n",
       "      <th>2</th>\n",
       "      <td>1000_2</td>\n",
       "      <td>2018-08-04</td>\n",
       "      <td>1000</td>\n",
       "    </tr>\n",
       "    <tr>\n",
       "      <th>3</th>\n",
       "      <td>1000_3</td>\n",
       "      <td>2018-06-16</td>\n",
       "      <td>1000</td>\n",
       "    </tr>\n",
       "    <tr>\n",
       "      <th>4</th>\n",
       "      <td>1000_4</td>\n",
       "      <td>2018-12-05</td>\n",
       "      <td>1000</td>\n",
       "    </tr>\n",
       "  </tbody>\n",
       "</table>\n",
       "</div>"
      ],
      "text/plain": [
       "       id message_date  user_id\n",
       "0  1000_0   2018-06-27     1000\n",
       "1  1000_1   2018-10-08     1000\n",
       "2  1000_2   2018-08-04     1000\n",
       "3  1000_3   2018-06-16     1000\n",
       "4  1000_4   2018-12-05     1000"
      ]
     },
     "execution_count": 74,
     "metadata": {},
     "output_type": "execute_result"
    }
   ],
   "source": [
    "messages.head(5)"
   ]
  },
  {
   "cell_type": "markdown",
   "metadata": {
    "deletable": false,
    "editable": false,
    "tags": [
     "start_task"
    ]
   },
   "source": [
    "**Задание 11.** Выведите основную информацию для датафрейма `messages` с помощью метода `info()`. "
   ]
  },
  {
   "cell_type": "code",
   "execution_count": 75,
   "metadata": {
    "deletable": false
   },
   "outputs": [
    {
     "name": "stdout",
     "output_type": "stream",
     "text": [
      "<class 'pandas.core.frame.DataFrame'>\n",
      "RangeIndex: 123036 entries, 0 to 123035\n",
      "Data columns (total 3 columns):\n",
      " #   Column        Non-Null Count   Dtype \n",
      "---  ------        --------------   ----- \n",
      " 0   id            123036 non-null  object\n",
      " 1   message_date  123036 non-null  object\n",
      " 2   user_id       123036 non-null  int64 \n",
      "dtypes: int64(1), object(2)\n",
      "memory usage: 2.8+ MB\n"
     ]
    }
   ],
   "source": [
    "messages.info()"
   ]
  },
  {
   "cell_type": "markdown",
   "metadata": {
    "deletable": false,
    "editable": false,
    "tags": [
     "start_task"
    ]
   },
   "source": [
    "**Задание 12.** Откройте файл `/datasets/tariffs.csv`, сохраните датафрейм в переменную `tariffs`."
   ]
  },
  {
   "cell_type": "code",
   "execution_count": 76,
   "metadata": {
    "deletable": false
   },
   "outputs": [],
   "source": [
    "tariffs = pd.read_csv('/datasets/tariffs.csv')"
   ]
  },
  {
   "cell_type": "markdown",
   "metadata": {
    "deletable": false,
    "editable": false,
    "tags": [
     "start_task"
    ]
   },
   "source": [
    "**Задание 13.** Выведите весь датафрейм `tariffs`."
   ]
  },
  {
   "cell_type": "code",
   "execution_count": 77,
   "metadata": {
    "deletable": false
   },
   "outputs": [
    {
     "data": {
      "text/html": [
       "<div>\n",
       "<style scoped>\n",
       "    .dataframe tbody tr th:only-of-type {\n",
       "        vertical-align: middle;\n",
       "    }\n",
       "\n",
       "    .dataframe tbody tr th {\n",
       "        vertical-align: top;\n",
       "    }\n",
       "\n",
       "    .dataframe thead th {\n",
       "        text-align: right;\n",
       "    }\n",
       "</style>\n",
       "<table border=\"1\" class=\"dataframe\">\n",
       "  <thead>\n",
       "    <tr style=\"text-align: right;\">\n",
       "      <th></th>\n",
       "      <th>messages_included</th>\n",
       "      <th>mb_per_month_included</th>\n",
       "      <th>minutes_included</th>\n",
       "      <th>rub_monthly_fee</th>\n",
       "      <th>rub_per_gb</th>\n",
       "      <th>rub_per_message</th>\n",
       "      <th>rub_per_minute</th>\n",
       "      <th>tariff_name</th>\n",
       "    </tr>\n",
       "  </thead>\n",
       "  <tbody>\n",
       "    <tr>\n",
       "      <th>0</th>\n",
       "      <td>50</td>\n",
       "      <td>15360</td>\n",
       "      <td>500</td>\n",
       "      <td>550</td>\n",
       "      <td>200</td>\n",
       "      <td>3</td>\n",
       "      <td>3</td>\n",
       "      <td>smart</td>\n",
       "    </tr>\n",
       "    <tr>\n",
       "      <th>1</th>\n",
       "      <td>1000</td>\n",
       "      <td>30720</td>\n",
       "      <td>3000</td>\n",
       "      <td>1950</td>\n",
       "      <td>150</td>\n",
       "      <td>1</td>\n",
       "      <td>1</td>\n",
       "      <td>ultra</td>\n",
       "    </tr>\n",
       "  </tbody>\n",
       "</table>\n",
       "</div>"
      ],
      "text/plain": [
       "   messages_included  mb_per_month_included  minutes_included  \\\n",
       "0                 50                  15360               500   \n",
       "1               1000                  30720              3000   \n",
       "\n",
       "   rub_monthly_fee  rub_per_gb  rub_per_message  rub_per_minute tariff_name  \n",
       "0              550         200                3               3       smart  \n",
       "1             1950         150                1               1       ultra  "
      ]
     },
     "execution_count": 77,
     "metadata": {},
     "output_type": "execute_result"
    }
   ],
   "source": [
    "tariffs"
   ]
  },
  {
   "cell_type": "markdown",
   "metadata": {
    "deletable": false,
    "editable": false,
    "tags": [
     "start_task"
    ]
   },
   "source": [
    "**Задание 14.** Выведите основную информацию для датафрейма `tariffs` с помощью метода `info()`."
   ]
  },
  {
   "cell_type": "code",
   "execution_count": 78,
   "metadata": {
    "deletable": false
   },
   "outputs": [
    {
     "name": "stdout",
     "output_type": "stream",
     "text": [
      "<class 'pandas.core.frame.DataFrame'>\n",
      "RangeIndex: 2 entries, 0 to 1\n",
      "Data columns (total 8 columns):\n",
      " #   Column                 Non-Null Count  Dtype \n",
      "---  ------                 --------------  ----- \n",
      " 0   messages_included      2 non-null      int64 \n",
      " 1   mb_per_month_included  2 non-null      int64 \n",
      " 2   minutes_included       2 non-null      int64 \n",
      " 3   rub_monthly_fee        2 non-null      int64 \n",
      " 4   rub_per_gb             2 non-null      int64 \n",
      " 5   rub_per_message        2 non-null      int64 \n",
      " 6   rub_per_minute         2 non-null      int64 \n",
      " 7   tariff_name            2 non-null      object\n",
      "dtypes: int64(7), object(1)\n",
      "memory usage: 256.0+ bytes\n"
     ]
    }
   ],
   "source": [
    "tariffs.info()"
   ]
  },
  {
   "cell_type": "markdown",
   "metadata": {
    "deletable": false,
    "editable": false,
    "tags": [
     "start_task"
    ]
   },
   "source": [
    "**Задание 15.** Откройте файл `/datasets/users.csv`, сохраните датафрейм в переменную `users`."
   ]
  },
  {
   "cell_type": "code",
   "execution_count": 79,
   "metadata": {
    "deletable": false
   },
   "outputs": [],
   "source": [
    "users = pd.read_csv('/datasets/users.csv')"
   ]
  },
  {
   "cell_type": "markdown",
   "metadata": {
    "deletable": false,
    "editable": false,
    "tags": [
     "start_task"
    ]
   },
   "source": [
    "**Задание 16.** Выведите первые 5 строк датафрейма `users`."
   ]
  },
  {
   "cell_type": "code",
   "execution_count": 80,
   "metadata": {
    "deletable": false
   },
   "outputs": [
    {
     "data": {
      "text/html": [
       "<div>\n",
       "<style scoped>\n",
       "    .dataframe tbody tr th:only-of-type {\n",
       "        vertical-align: middle;\n",
       "    }\n",
       "\n",
       "    .dataframe tbody tr th {\n",
       "        vertical-align: top;\n",
       "    }\n",
       "\n",
       "    .dataframe thead th {\n",
       "        text-align: right;\n",
       "    }\n",
       "</style>\n",
       "<table border=\"1\" class=\"dataframe\">\n",
       "  <thead>\n",
       "    <tr style=\"text-align: right;\">\n",
       "      <th></th>\n",
       "      <th>user_id</th>\n",
       "      <th>age</th>\n",
       "      <th>churn_date</th>\n",
       "      <th>city</th>\n",
       "      <th>first_name</th>\n",
       "      <th>last_name</th>\n",
       "      <th>reg_date</th>\n",
       "      <th>tariff</th>\n",
       "    </tr>\n",
       "  </thead>\n",
       "  <tbody>\n",
       "    <tr>\n",
       "      <th>0</th>\n",
       "      <td>1000</td>\n",
       "      <td>52</td>\n",
       "      <td>NaN</td>\n",
       "      <td>Краснодар</td>\n",
       "      <td>Рафаил</td>\n",
       "      <td>Верещагин</td>\n",
       "      <td>2018-05-25</td>\n",
       "      <td>ultra</td>\n",
       "    </tr>\n",
       "    <tr>\n",
       "      <th>1</th>\n",
       "      <td>1001</td>\n",
       "      <td>41</td>\n",
       "      <td>NaN</td>\n",
       "      <td>Москва</td>\n",
       "      <td>Иван</td>\n",
       "      <td>Ежов</td>\n",
       "      <td>2018-11-01</td>\n",
       "      <td>smart</td>\n",
       "    </tr>\n",
       "    <tr>\n",
       "      <th>2</th>\n",
       "      <td>1002</td>\n",
       "      <td>59</td>\n",
       "      <td>NaN</td>\n",
       "      <td>Стерлитамак</td>\n",
       "      <td>Евгений</td>\n",
       "      <td>Абрамович</td>\n",
       "      <td>2018-06-17</td>\n",
       "      <td>smart</td>\n",
       "    </tr>\n",
       "    <tr>\n",
       "      <th>3</th>\n",
       "      <td>1003</td>\n",
       "      <td>23</td>\n",
       "      <td>NaN</td>\n",
       "      <td>Москва</td>\n",
       "      <td>Белла</td>\n",
       "      <td>Белякова</td>\n",
       "      <td>2018-08-17</td>\n",
       "      <td>ultra</td>\n",
       "    </tr>\n",
       "    <tr>\n",
       "      <th>4</th>\n",
       "      <td>1004</td>\n",
       "      <td>68</td>\n",
       "      <td>NaN</td>\n",
       "      <td>Новокузнецк</td>\n",
       "      <td>Татьяна</td>\n",
       "      <td>Авдеенко</td>\n",
       "      <td>2018-05-14</td>\n",
       "      <td>ultra</td>\n",
       "    </tr>\n",
       "  </tbody>\n",
       "</table>\n",
       "</div>"
      ],
      "text/plain": [
       "   user_id  age churn_date         city first_name  last_name    reg_date  \\\n",
       "0     1000   52        NaN    Краснодар     Рафаил  Верещагин  2018-05-25   \n",
       "1     1001   41        NaN       Москва       Иван       Ежов  2018-11-01   \n",
       "2     1002   59        NaN  Стерлитамак    Евгений  Абрамович  2018-06-17   \n",
       "3     1003   23        NaN       Москва      Белла   Белякова  2018-08-17   \n",
       "4     1004   68        NaN  Новокузнецк    Татьяна   Авдеенко  2018-05-14   \n",
       "\n",
       "  tariff  \n",
       "0  ultra  \n",
       "1  smart  \n",
       "2  smart  \n",
       "3  ultra  \n",
       "4  ultra  "
      ]
     },
     "execution_count": 80,
     "metadata": {},
     "output_type": "execute_result"
    }
   ],
   "source": [
    "users.head(5)"
   ]
  },
  {
   "cell_type": "markdown",
   "metadata": {
    "deletable": false,
    "editable": false,
    "tags": [
     "start_task"
    ]
   },
   "source": [
    "**Задание 17.** Выведите основную информацию для датафрейма `users` с помощью метода `info()`."
   ]
  },
  {
   "cell_type": "code",
   "execution_count": 83,
   "metadata": {
    "deletable": false
   },
   "outputs": [
    {
     "name": "stdout",
     "output_type": "stream",
     "text": [
      "<class 'pandas.core.frame.DataFrame'>\n",
      "RangeIndex: 500 entries, 0 to 499\n",
      "Data columns (total 8 columns):\n",
      " #   Column      Non-Null Count  Dtype \n",
      "---  ------      --------------  ----- \n",
      " 0   user_id     500 non-null    int64 \n",
      " 1   age         500 non-null    int64 \n",
      " 2   churn_date  38 non-null     object\n",
      " 3   city        500 non-null    object\n",
      " 4   first_name  500 non-null    object\n",
      " 5   last_name   500 non-null    object\n",
      " 6   reg_date    500 non-null    object\n",
      " 7   tariff      500 non-null    object\n",
      "dtypes: int64(2), object(6)\n",
      "memory usage: 31.4+ KB\n"
     ]
    }
   ],
   "source": [
    "users.info()"
   ]
  },
  {
   "cell_type": "markdown",
   "metadata": {
    "deletable": false,
    "editable": false
   },
   "source": [
    "### Подготовьте данные"
   ]
  },
  {
   "cell_type": "markdown",
   "metadata": {
    "deletable": false,
    "editable": false,
    "tags": [
     "start_task"
    ]
   },
   "source": [
    "**Задание 18.**  Приведите столбцы\n",
    "\n",
    "- `reg_date` из таблицы `users`\n",
    "- `churn_date` из таблицы `users`\n",
    "- `call_date` из таблицы `calls`\n",
    "- `message_date` из таблицы `messages`\n",
    "- `session_date` из таблицы `sessions`\n",
    "\n",
    "к новому типу с помощью метода `to_datetime()`."
   ]
  },
  {
   "cell_type": "code",
   "execution_count": 84,
   "metadata": {
    "deletable": false
   },
   "outputs": [],
   "source": [
    "users['reg_date'] = pd.to_datetime(users['reg_date']) \n",
    "#обработка столбца reg_date\n",
    "users['churn_date'] = pd.to_datetime(users['churn_date']) \n",
    "#обработка столбца churn_date\n",
    "calls['call_date'] = pd.to_datetime(calls['call_date'])\n",
    "# обработка столбца call_date\n",
    "messages['message_date'] = pd.to_datetime(messages['message_date'])\n",
    "# обработка столбца message_date\n",
    "sessions['session_date'] = pd.to_datetime(sessions['session_date'])                                          \n",
    "# обработка столбца session_date"
   ]
  },
  {
   "cell_type": "code",
   "execution_count": 85,
   "metadata": {},
   "outputs": [
    {
     "name": "stdout",
     "output_type": "stream",
     "text": [
      "<class 'pandas.core.frame.DataFrame'>\n",
      "RangeIndex: 149396 entries, 0 to 149395\n",
      "Data columns (total 5 columns):\n",
      " #   Column        Non-Null Count   Dtype         \n",
      "---  ------        --------------   -----         \n",
      " 0   Unnamed: 0    149396 non-null  int64         \n",
      " 1   id            149396 non-null  object        \n",
      " 2   mb_used       149396 non-null  float64       \n",
      " 3   session_date  149396 non-null  datetime64[ns]\n",
      " 4   user_id       149396 non-null  int64         \n",
      "dtypes: datetime64[ns](1), float64(1), int64(2), object(1)\n",
      "memory usage: 5.7+ MB\n"
     ]
    }
   ],
   "source": [
    "sessions.info()"
   ]
  },
  {
   "cell_type": "markdown",
   "metadata": {
    "deletable": false,
    "editable": false,
    "tags": [
     "start_task"
    ]
   },
   "source": [
    "**Задание 19.** В данных вы найдёте звонки с нулевой продолжительностью. Это не ошибка: нулями обозначены пропущенные звонки, поэтому их не нужно удалять.\n",
    "\n",
    "Однако в столбце `duration` датафрейма `calls` значения дробные. Округлите значения столбца `duration` вверх с помощью метода `numpy.ceil()` и приведите столбец `duration` к типу `int`."
   ]
  },
  {
   "cell_type": "code",
   "execution_count": 86,
   "metadata": {
    "deletable": false
   },
   "outputs": [],
   "source": [
    "import numpy as np\n",
    "\n",
    "calls['duration'] = np.ceil(calls['duration']).astype(int)\n",
    "\n",
    "# округление значений столбца duration с помощью np.ceil() и приведение типа к int"
   ]
  },
  {
   "cell_type": "markdown",
   "metadata": {
    "deletable": false,
    "editable": false,
    "tags": [
     "start_task"
    ]
   },
   "source": [
    "**Задание 20.** Удалите столбец `Unnamed: 0` из датафрейма `sessions`. Столбец с таким названием возникает, когда данные сохраняют с указанием индекса (`df.to_csv(..., index=column)`). Он сейчас не понадобится."
   ]
  },
  {
   "cell_type": "code",
   "execution_count": 87,
   "metadata": {
    "deletable": false
   },
   "outputs": [],
   "source": [
    "sessions = sessions.drop(columns = ['Unnamed: 0'])"
   ]
  },
  {
   "cell_type": "markdown",
   "metadata": {
    "deletable": false,
    "editable": false,
    "tags": [
     "start_task"
    ]
   },
   "source": [
    "**Задание 21.** Создайте столбец `month` в датафрейме `calls` с номером месяца из столбца `call_date`."
   ]
  },
  {
   "cell_type": "code",
   "execution_count": 88,
   "metadata": {},
   "outputs": [
    {
     "data": {
      "text/html": [
       "<div>\n",
       "<style scoped>\n",
       "    .dataframe tbody tr th:only-of-type {\n",
       "        vertical-align: middle;\n",
       "    }\n",
       "\n",
       "    .dataframe tbody tr th {\n",
       "        vertical-align: top;\n",
       "    }\n",
       "\n",
       "    .dataframe thead th {\n",
       "        text-align: right;\n",
       "    }\n",
       "</style>\n",
       "<table border=\"1\" class=\"dataframe\">\n",
       "  <thead>\n",
       "    <tr style=\"text-align: right;\">\n",
       "      <th></th>\n",
       "      <th>id</th>\n",
       "      <th>call_date</th>\n",
       "      <th>duration</th>\n",
       "      <th>user_id</th>\n",
       "    </tr>\n",
       "  </thead>\n",
       "  <tbody>\n",
       "    <tr>\n",
       "      <th>0</th>\n",
       "      <td>1000_0</td>\n",
       "      <td>2018-07-25</td>\n",
       "      <td>0</td>\n",
       "      <td>1000</td>\n",
       "    </tr>\n",
       "    <tr>\n",
       "      <th>1</th>\n",
       "      <td>1000_1</td>\n",
       "      <td>2018-08-17</td>\n",
       "      <td>0</td>\n",
       "      <td>1000</td>\n",
       "    </tr>\n",
       "    <tr>\n",
       "      <th>2</th>\n",
       "      <td>1000_2</td>\n",
       "      <td>2018-06-11</td>\n",
       "      <td>3</td>\n",
       "      <td>1000</td>\n",
       "    </tr>\n",
       "    <tr>\n",
       "      <th>3</th>\n",
       "      <td>1000_3</td>\n",
       "      <td>2018-09-21</td>\n",
       "      <td>14</td>\n",
       "      <td>1000</td>\n",
       "    </tr>\n",
       "    <tr>\n",
       "      <th>4</th>\n",
       "      <td>1000_4</td>\n",
       "      <td>2018-12-15</td>\n",
       "      <td>6</td>\n",
       "      <td>1000</td>\n",
       "    </tr>\n",
       "  </tbody>\n",
       "</table>\n",
       "</div>"
      ],
      "text/plain": [
       "       id  call_date  duration  user_id\n",
       "0  1000_0 2018-07-25         0     1000\n",
       "1  1000_1 2018-08-17         0     1000\n",
       "2  1000_2 2018-06-11         3     1000\n",
       "3  1000_3 2018-09-21        14     1000\n",
       "4  1000_4 2018-12-15         6     1000"
      ]
     },
     "execution_count": 88,
     "metadata": {},
     "output_type": "execute_result"
    }
   ],
   "source": [
    "calls.head(5)"
   ]
  },
  {
   "cell_type": "code",
   "execution_count": 89,
   "metadata": {
    "deletable": false
   },
   "outputs": [],
   "source": [
    "calls['month'] = calls['call_date'].apply(lambda x: x.month)"
   ]
  },
  {
   "cell_type": "code",
   "execution_count": 90,
   "metadata": {},
   "outputs": [
    {
     "data": {
      "text/html": [
       "<div>\n",
       "<style scoped>\n",
       "    .dataframe tbody tr th:only-of-type {\n",
       "        vertical-align: middle;\n",
       "    }\n",
       "\n",
       "    .dataframe tbody tr th {\n",
       "        vertical-align: top;\n",
       "    }\n",
       "\n",
       "    .dataframe thead th {\n",
       "        text-align: right;\n",
       "    }\n",
       "</style>\n",
       "<table border=\"1\" class=\"dataframe\">\n",
       "  <thead>\n",
       "    <tr style=\"text-align: right;\">\n",
       "      <th></th>\n",
       "      <th>id</th>\n",
       "      <th>call_date</th>\n",
       "      <th>duration</th>\n",
       "      <th>user_id</th>\n",
       "      <th>month</th>\n",
       "    </tr>\n",
       "  </thead>\n",
       "  <tbody>\n",
       "    <tr>\n",
       "      <th>0</th>\n",
       "      <td>1000_0</td>\n",
       "      <td>2018-07-25</td>\n",
       "      <td>0</td>\n",
       "      <td>1000</td>\n",
       "      <td>7</td>\n",
       "    </tr>\n",
       "    <tr>\n",
       "      <th>1</th>\n",
       "      <td>1000_1</td>\n",
       "      <td>2018-08-17</td>\n",
       "      <td>0</td>\n",
       "      <td>1000</td>\n",
       "      <td>8</td>\n",
       "    </tr>\n",
       "    <tr>\n",
       "      <th>2</th>\n",
       "      <td>1000_2</td>\n",
       "      <td>2018-06-11</td>\n",
       "      <td>3</td>\n",
       "      <td>1000</td>\n",
       "      <td>6</td>\n",
       "    </tr>\n",
       "    <tr>\n",
       "      <th>3</th>\n",
       "      <td>1000_3</td>\n",
       "      <td>2018-09-21</td>\n",
       "      <td>14</td>\n",
       "      <td>1000</td>\n",
       "      <td>9</td>\n",
       "    </tr>\n",
       "    <tr>\n",
       "      <th>4</th>\n",
       "      <td>1000_4</td>\n",
       "      <td>2018-12-15</td>\n",
       "      <td>6</td>\n",
       "      <td>1000</td>\n",
       "      <td>12</td>\n",
       "    </tr>\n",
       "  </tbody>\n",
       "</table>\n",
       "</div>"
      ],
      "text/plain": [
       "       id  call_date  duration  user_id  month\n",
       "0  1000_0 2018-07-25         0     1000      7\n",
       "1  1000_1 2018-08-17         0     1000      8\n",
       "2  1000_2 2018-06-11         3     1000      6\n",
       "3  1000_3 2018-09-21        14     1000      9\n",
       "4  1000_4 2018-12-15         6     1000     12"
      ]
     },
     "execution_count": 90,
     "metadata": {},
     "output_type": "execute_result"
    }
   ],
   "source": [
    "#Проверим, что получилось:\n",
    "\n",
    "calls.head(5)"
   ]
  },
  {
   "cell_type": "markdown",
   "metadata": {
    "deletable": false,
    "editable": false,
    "tags": [
     "start_task"
    ]
   },
   "source": [
    "**Задание 22.** Создайте столбец `month` в датафрейме `messages` с номером месяца из столбца `message_date`."
   ]
  },
  {
   "cell_type": "code",
   "execution_count": 91,
   "metadata": {
    "deletable": false
   },
   "outputs": [],
   "source": [
    "messages['month'] = messages['message_date'].apply(lambda x: x.month)"
   ]
  },
  {
   "cell_type": "markdown",
   "metadata": {
    "deletable": false,
    "editable": false,
    "tags": [
     "start_task"
    ]
   },
   "source": [
    "**Задание 23.** Создайте столбец `month` в датафрейме `sessions` с номером месяца из столбца `session_date`."
   ]
  },
  {
   "cell_type": "code",
   "execution_count": 92,
   "metadata": {
    "deletable": false
   },
   "outputs": [],
   "source": [
    "sessions['month'] = sessions['session_date'].apply(lambda x: x.month)"
   ]
  },
  {
   "cell_type": "markdown",
   "metadata": {
    "deletable": false,
    "editable": false,
    "tags": [
     "start_task"
    ]
   },
   "source": [
    "**Задание 24.** Посчитайте количество сделанных звонков разговора для каждого пользователя по месяцам."
   ]
  },
  {
   "cell_type": "code",
   "execution_count": 93,
   "metadata": {
    "deletable": false
   },
   "outputs": [],
   "source": [
    "# подсчёт количества звонков для каждого пользователя по месяцам\n",
    "\n",
    "calls_per_month = calls.groupby(['user_id','month']).agg(calls=('duration', 'count'))\n",
    "\n"
   ]
  },
  {
   "cell_type": "code",
   "execution_count": 29,
   "metadata": {
    "deletable": false
   },
   "outputs": [
    {
     "data": {
      "text/html": [
       "<div>\n",
       "<style scoped>\n",
       "    .dataframe tbody tr th:only-of-type {\n",
       "        vertical-align: middle;\n",
       "    }\n",
       "\n",
       "    .dataframe tbody tr th {\n",
       "        vertical-align: top;\n",
       "    }\n",
       "\n",
       "    .dataframe thead th {\n",
       "        text-align: right;\n",
       "    }\n",
       "</style>\n",
       "<table border=\"1\" class=\"dataframe\">\n",
       "  <thead>\n",
       "    <tr style=\"text-align: right;\">\n",
       "      <th></th>\n",
       "      <th></th>\n",
       "      <th>calls</th>\n",
       "    </tr>\n",
       "    <tr>\n",
       "      <th>user_id</th>\n",
       "      <th>month</th>\n",
       "      <th></th>\n",
       "    </tr>\n",
       "  </thead>\n",
       "  <tbody>\n",
       "    <tr>\n",
       "      <th rowspan=\"8\" valign=\"top\">1000</th>\n",
       "      <th>5</th>\n",
       "      <td>22</td>\n",
       "    </tr>\n",
       "    <tr>\n",
       "      <th>6</th>\n",
       "      <td>43</td>\n",
       "    </tr>\n",
       "    <tr>\n",
       "      <th>7</th>\n",
       "      <td>47</td>\n",
       "    </tr>\n",
       "    <tr>\n",
       "      <th>8</th>\n",
       "      <td>52</td>\n",
       "    </tr>\n",
       "    <tr>\n",
       "      <th>9</th>\n",
       "      <td>58</td>\n",
       "    </tr>\n",
       "    <tr>\n",
       "      <th>10</th>\n",
       "      <td>57</td>\n",
       "    </tr>\n",
       "    <tr>\n",
       "      <th>11</th>\n",
       "      <td>43</td>\n",
       "    </tr>\n",
       "    <tr>\n",
       "      <th>12</th>\n",
       "      <td>46</td>\n",
       "    </tr>\n",
       "    <tr>\n",
       "      <th rowspan=\"2\" valign=\"top\">1001</th>\n",
       "      <th>11</th>\n",
       "      <td>59</td>\n",
       "    </tr>\n",
       "    <tr>\n",
       "      <th>12</th>\n",
       "      <td>63</td>\n",
       "    </tr>\n",
       "    <tr>\n",
       "      <th rowspan=\"7\" valign=\"top\">1002</th>\n",
       "      <th>6</th>\n",
       "      <td>15</td>\n",
       "    </tr>\n",
       "    <tr>\n",
       "      <th>7</th>\n",
       "      <td>26</td>\n",
       "    </tr>\n",
       "    <tr>\n",
       "      <th>8</th>\n",
       "      <td>42</td>\n",
       "    </tr>\n",
       "    <tr>\n",
       "      <th>9</th>\n",
       "      <td>36</td>\n",
       "    </tr>\n",
       "    <tr>\n",
       "      <th>10</th>\n",
       "      <td>33</td>\n",
       "    </tr>\n",
       "    <tr>\n",
       "      <th>11</th>\n",
       "      <td>32</td>\n",
       "    </tr>\n",
       "    <tr>\n",
       "      <th>12</th>\n",
       "      <td>33</td>\n",
       "    </tr>\n",
       "    <tr>\n",
       "      <th rowspan=\"5\" valign=\"top\">1003</th>\n",
       "      <th>8</th>\n",
       "      <td>55</td>\n",
       "    </tr>\n",
       "    <tr>\n",
       "      <th>9</th>\n",
       "      <td>134</td>\n",
       "    </tr>\n",
       "    <tr>\n",
       "      <th>10</th>\n",
       "      <td>108</td>\n",
       "    </tr>\n",
       "    <tr>\n",
       "      <th>11</th>\n",
       "      <td>115</td>\n",
       "    </tr>\n",
       "    <tr>\n",
       "      <th>12</th>\n",
       "      <td>108</td>\n",
       "    </tr>\n",
       "    <tr>\n",
       "      <th rowspan=\"8\" valign=\"top\">1004</th>\n",
       "      <th>5</th>\n",
       "      <td>9</td>\n",
       "    </tr>\n",
       "    <tr>\n",
       "      <th>6</th>\n",
       "      <td>31</td>\n",
       "    </tr>\n",
       "    <tr>\n",
       "      <th>7</th>\n",
       "      <td>22</td>\n",
       "    </tr>\n",
       "    <tr>\n",
       "      <th>8</th>\n",
       "      <td>19</td>\n",
       "    </tr>\n",
       "    <tr>\n",
       "      <th>9</th>\n",
       "      <td>26</td>\n",
       "    </tr>\n",
       "    <tr>\n",
       "      <th>10</th>\n",
       "      <td>29</td>\n",
       "    </tr>\n",
       "    <tr>\n",
       "      <th>11</th>\n",
       "      <td>19</td>\n",
       "    </tr>\n",
       "    <tr>\n",
       "      <th>12</th>\n",
       "      <td>21</td>\n",
       "    </tr>\n",
       "  </tbody>\n",
       "</table>\n",
       "</div>"
      ],
      "text/plain": [
       "               calls\n",
       "user_id month       \n",
       "1000    5         22\n",
       "        6         43\n",
       "        7         47\n",
       "        8         52\n",
       "        9         58\n",
       "        10        57\n",
       "        11        43\n",
       "        12        46\n",
       "1001    11        59\n",
       "        12        63\n",
       "1002    6         15\n",
       "        7         26\n",
       "        8         42\n",
       "        9         36\n",
       "        10        33\n",
       "        11        32\n",
       "        12        33\n",
       "1003    8         55\n",
       "        9        134\n",
       "        10       108\n",
       "        11       115\n",
       "        12       108\n",
       "1004    5          9\n",
       "        6         31\n",
       "        7         22\n",
       "        8         19\n",
       "        9         26\n",
       "        10        29\n",
       "        11        19\n",
       "        12        21"
      ]
     },
     "execution_count": 29,
     "metadata": {},
     "output_type": "execute_result"
    }
   ],
   "source": [
    "# вывод 30 первых строк на экран\n",
    "\n",
    "calls_per_month.head(30)"
   ]
  },
  {
   "cell_type": "markdown",
   "metadata": {
    "deletable": false,
    "editable": false,
    "tags": [
     "start_task"
    ]
   },
   "source": [
    "**Задание 25.** Посчитайте количество израсходованных минут разговора для каждого пользователя по месяцам и сохраните в переменную `minutes_per_month`. Вам понадобится\n",
    "\n",
    "- сгруппировать датафрейм с информацией о звонках по двум столбцам — с идентификаторами пользователей и номерами месяцев;\n",
    "- после группировки выбрать столбец `duration`\n",
    "- затем применить метод для подсчёта суммы.\n",
    "\n",
    "Выведите первые 30 строчек `minutes_per_month`."
   ]
  },
  {
   "cell_type": "code",
   "execution_count": 94,
   "metadata": {
    "deletable": false
   },
   "outputs": [],
   "source": [
    "# подсчёт израсходованных минут для каждого пользователя по месяцам\n",
    "\n",
    "minutes_per_month = calls.groupby(['user_id','month']).agg(minutes = ('duration','sum'))"
   ]
  },
  {
   "cell_type": "code",
   "execution_count": 128,
   "metadata": {
    "deletable": false
   },
   "outputs": [
    {
     "data": {
      "text/html": [
       "<div>\n",
       "<style scoped>\n",
       "    .dataframe tbody tr th:only-of-type {\n",
       "        vertical-align: middle;\n",
       "    }\n",
       "\n",
       "    .dataframe tbody tr th {\n",
       "        vertical-align: top;\n",
       "    }\n",
       "\n",
       "    .dataframe thead th {\n",
       "        text-align: right;\n",
       "    }\n",
       "</style>\n",
       "<table border=\"1\" class=\"dataframe\">\n",
       "  <thead>\n",
       "    <tr style=\"text-align: right;\">\n",
       "      <th></th>\n",
       "      <th></th>\n",
       "      <th>minutes</th>\n",
       "    </tr>\n",
       "    <tr>\n",
       "      <th>user_id</th>\n",
       "      <th>month</th>\n",
       "      <th></th>\n",
       "    </tr>\n",
       "  </thead>\n",
       "  <tbody>\n",
       "    <tr>\n",
       "      <th rowspan=\"5\" valign=\"top\">1000</th>\n",
       "      <th>5</th>\n",
       "      <td>159</td>\n",
       "    </tr>\n",
       "    <tr>\n",
       "      <th>6</th>\n",
       "      <td>172</td>\n",
       "    </tr>\n",
       "    <tr>\n",
       "      <th>7</th>\n",
       "      <td>340</td>\n",
       "    </tr>\n",
       "    <tr>\n",
       "      <th>8</th>\n",
       "      <td>408</td>\n",
       "    </tr>\n",
       "    <tr>\n",
       "      <th>9</th>\n",
       "      <td>466</td>\n",
       "    </tr>\n",
       "    <tr>\n",
       "      <th>...</th>\n",
       "      <th>...</th>\n",
       "      <td>...</td>\n",
       "    </tr>\n",
       "    <tr>\n",
       "      <th>1498</th>\n",
       "      <th>10</th>\n",
       "      <td>247</td>\n",
       "    </tr>\n",
       "    <tr>\n",
       "      <th rowspan=\"4\" valign=\"top\">1499</th>\n",
       "      <th>9</th>\n",
       "      <td>70</td>\n",
       "    </tr>\n",
       "    <tr>\n",
       "      <th>10</th>\n",
       "      <td>449</td>\n",
       "    </tr>\n",
       "    <tr>\n",
       "      <th>11</th>\n",
       "      <td>612</td>\n",
       "    </tr>\n",
       "    <tr>\n",
       "      <th>12</th>\n",
       "      <td>492</td>\n",
       "    </tr>\n",
       "  </tbody>\n",
       "</table>\n",
       "<p>3174 rows × 1 columns</p>\n",
       "</div>"
      ],
      "text/plain": [
       "               minutes\n",
       "user_id month         \n",
       "1000    5          159\n",
       "        6          172\n",
       "        7          340\n",
       "        8          408\n",
       "        9          466\n",
       "...                ...\n",
       "1498    10         247\n",
       "1499    9           70\n",
       "        10         449\n",
       "        11         612\n",
       "        12         492\n",
       "\n",
       "[3174 rows x 1 columns]"
      ]
     },
     "execution_count": 128,
     "metadata": {},
     "output_type": "execute_result"
    }
   ],
   "source": [
    "# вывод первых 30 строк на экран\n",
    "minutes_per_month"
   ]
  },
  {
   "cell_type": "markdown",
   "metadata": {
    "deletable": false,
    "editable": false,
    "tags": [
     "start_task"
    ]
   },
   "source": [
    "**Задание 26.** Посчитайте количество отправленных сообщений по месяцам для каждого пользователя и сохраните в переменную `messages_per_month`. Вам понадобится\n",
    "\n",
    "- сгруппировать датафрейм с информацией о сообщениях по двум столбцам — с идентификаторами пользователей и номерами месяцев;\n",
    "- после группировки выбрать столбец `message_date`;\n",
    "- затем применить метод для подсчёта количества.\n",
    "\n",
    "Выведите первые 30 строчек `messages_per_month`."
   ]
  },
  {
   "cell_type": "code",
   "execution_count": 136,
   "metadata": {
    "deletable": false
   },
   "outputs": [],
   "source": [
    "# подсчёт количества отправленных сообщений для каждого пользователя по месяцам #{\"id\":lambda x: len(np.unique(x)) }\n",
    "\n",
    "messages_per_month = messages.groupby(['user_id','month']).agg(messages=('message_date', 'count'))"
   ]
  },
  {
   "cell_type": "code",
   "execution_count": 137,
   "metadata": {
    "deletable": false
   },
   "outputs": [
    {
     "data": {
      "text/html": [
       "<div>\n",
       "<style scoped>\n",
       "    .dataframe tbody tr th:only-of-type {\n",
       "        vertical-align: middle;\n",
       "    }\n",
       "\n",
       "    .dataframe tbody tr th {\n",
       "        vertical-align: top;\n",
       "    }\n",
       "\n",
       "    .dataframe thead th {\n",
       "        text-align: right;\n",
       "    }\n",
       "</style>\n",
       "<table border=\"1\" class=\"dataframe\">\n",
       "  <thead>\n",
       "    <tr style=\"text-align: right;\">\n",
       "      <th></th>\n",
       "      <th></th>\n",
       "      <th>messages</th>\n",
       "    </tr>\n",
       "    <tr>\n",
       "      <th>user_id</th>\n",
       "      <th>month</th>\n",
       "      <th></th>\n",
       "    </tr>\n",
       "  </thead>\n",
       "  <tbody>\n",
       "    <tr>\n",
       "      <th rowspan=\"8\" valign=\"top\">1000</th>\n",
       "      <th>5</th>\n",
       "      <td>22</td>\n",
       "    </tr>\n",
       "    <tr>\n",
       "      <th>6</th>\n",
       "      <td>60</td>\n",
       "    </tr>\n",
       "    <tr>\n",
       "      <th>7</th>\n",
       "      <td>75</td>\n",
       "    </tr>\n",
       "    <tr>\n",
       "      <th>8</th>\n",
       "      <td>81</td>\n",
       "    </tr>\n",
       "    <tr>\n",
       "      <th>9</th>\n",
       "      <td>57</td>\n",
       "    </tr>\n",
       "    <tr>\n",
       "      <th>10</th>\n",
       "      <td>73</td>\n",
       "    </tr>\n",
       "    <tr>\n",
       "      <th>11</th>\n",
       "      <td>58</td>\n",
       "    </tr>\n",
       "    <tr>\n",
       "      <th>12</th>\n",
       "      <td>70</td>\n",
       "    </tr>\n",
       "    <tr>\n",
       "      <th rowspan=\"7\" valign=\"top\">1002</th>\n",
       "      <th>6</th>\n",
       "      <td>4</td>\n",
       "    </tr>\n",
       "    <tr>\n",
       "      <th>7</th>\n",
       "      <td>11</td>\n",
       "    </tr>\n",
       "    <tr>\n",
       "      <th>8</th>\n",
       "      <td>13</td>\n",
       "    </tr>\n",
       "    <tr>\n",
       "      <th>9</th>\n",
       "      <td>4</td>\n",
       "    </tr>\n",
       "    <tr>\n",
       "      <th>10</th>\n",
       "      <td>10</td>\n",
       "    </tr>\n",
       "    <tr>\n",
       "      <th>11</th>\n",
       "      <td>16</td>\n",
       "    </tr>\n",
       "    <tr>\n",
       "      <th>12</th>\n",
       "      <td>12</td>\n",
       "    </tr>\n",
       "    <tr>\n",
       "      <th rowspan=\"5\" valign=\"top\">1003</th>\n",
       "      <th>8</th>\n",
       "      <td>37</td>\n",
       "    </tr>\n",
       "    <tr>\n",
       "      <th>9</th>\n",
       "      <td>91</td>\n",
       "    </tr>\n",
       "    <tr>\n",
       "      <th>10</th>\n",
       "      <td>83</td>\n",
       "    </tr>\n",
       "    <tr>\n",
       "      <th>11</th>\n",
       "      <td>94</td>\n",
       "    </tr>\n",
       "    <tr>\n",
       "      <th>12</th>\n",
       "      <td>75</td>\n",
       "    </tr>\n",
       "    <tr>\n",
       "      <th rowspan=\"8\" valign=\"top\">1004</th>\n",
       "      <th>5</th>\n",
       "      <td>95</td>\n",
       "    </tr>\n",
       "    <tr>\n",
       "      <th>6</th>\n",
       "      <td>134</td>\n",
       "    </tr>\n",
       "    <tr>\n",
       "      <th>7</th>\n",
       "      <td>181</td>\n",
       "    </tr>\n",
       "    <tr>\n",
       "      <th>8</th>\n",
       "      <td>151</td>\n",
       "    </tr>\n",
       "    <tr>\n",
       "      <th>9</th>\n",
       "      <td>146</td>\n",
       "    </tr>\n",
       "    <tr>\n",
       "      <th>10</th>\n",
       "      <td>165</td>\n",
       "    </tr>\n",
       "    <tr>\n",
       "      <th>11</th>\n",
       "      <td>158</td>\n",
       "    </tr>\n",
       "    <tr>\n",
       "      <th>12</th>\n",
       "      <td>162</td>\n",
       "    </tr>\n",
       "    <tr>\n",
       "      <th rowspan=\"2\" valign=\"top\">1005</th>\n",
       "      <th>1</th>\n",
       "      <td>7</td>\n",
       "    </tr>\n",
       "    <tr>\n",
       "      <th>2</th>\n",
       "      <td>38</td>\n",
       "    </tr>\n",
       "  </tbody>\n",
       "</table>\n",
       "</div>"
      ],
      "text/plain": [
       "               messages\n",
       "user_id month          \n",
       "1000    5            22\n",
       "        6            60\n",
       "        7            75\n",
       "        8            81\n",
       "        9            57\n",
       "        10           73\n",
       "        11           58\n",
       "        12           70\n",
       "1002    6             4\n",
       "        7            11\n",
       "        8            13\n",
       "        9             4\n",
       "        10           10\n",
       "        11           16\n",
       "        12           12\n",
       "1003    8            37\n",
       "        9            91\n",
       "        10           83\n",
       "        11           94\n",
       "        12           75\n",
       "1004    5            95\n",
       "        6           134\n",
       "        7           181\n",
       "        8           151\n",
       "        9           146\n",
       "        10          165\n",
       "        11          158\n",
       "        12          162\n",
       "1005    1             7\n",
       "        2            38"
      ]
     },
     "execution_count": 137,
     "metadata": {},
     "output_type": "execute_result"
    }
   ],
   "source": [
    "# вывод первых 30 строк на экран\n",
    "messages_per_month=messages_per_month.rename(columns = {'id': 'messages_count'})\n",
    "messages_per_month.head(30)"
   ]
  },
  {
   "cell_type": "markdown",
   "metadata": {
    "deletable": false,
    "editable": false,
    "tags": [
     "start_task"
    ]
   },
   "source": [
    "**Задание 27.** Посчитайте количество потраченных мегабайт по месяцам для каждого пользователя и сохраните в переменную `sessions_per_month`. Вам понадобится\n",
    "\n",
    "- сгруппировать датафрейм с информацией о сообщениях по двум столбцам — с идентификаторами пользователей и номерами месяцев;\n",
    "- затем применить метод для подсчёта суммы: `.agg({'mb_used': 'sum'})`"
   ]
  },
  {
   "cell_type": "code",
   "execution_count": 138,
   "metadata": {
    "deletable": false
   },
   "outputs": [],
   "source": [
    "# подсчёт потраченных мегабайт для каждого пользователя по месяцам\n",
    "\n",
    "sessions_per_month = sessions.groupby(['user_id','month']).agg({'mb_used': 'sum'})"
   ]
  },
  {
   "cell_type": "code",
   "execution_count": 139,
   "metadata": {
    "deletable": false
   },
   "outputs": [
    {
     "data": {
      "text/html": [
       "<div>\n",
       "<style scoped>\n",
       "    .dataframe tbody tr th:only-of-type {\n",
       "        vertical-align: middle;\n",
       "    }\n",
       "\n",
       "    .dataframe tbody tr th {\n",
       "        vertical-align: top;\n",
       "    }\n",
       "\n",
       "    .dataframe thead th {\n",
       "        text-align: right;\n",
       "    }\n",
       "</style>\n",
       "<table border=\"1\" class=\"dataframe\">\n",
       "  <thead>\n",
       "    <tr style=\"text-align: right;\">\n",
       "      <th></th>\n",
       "      <th></th>\n",
       "      <th>mb_used</th>\n",
       "    </tr>\n",
       "    <tr>\n",
       "      <th>user_id</th>\n",
       "      <th>month</th>\n",
       "      <th></th>\n",
       "    </tr>\n",
       "  </thead>\n",
       "  <tbody>\n",
       "    <tr>\n",
       "      <th rowspan=\"8\" valign=\"top\">1000</th>\n",
       "      <th>5</th>\n",
       "      <td>2253.49</td>\n",
       "    </tr>\n",
       "    <tr>\n",
       "      <th>6</th>\n",
       "      <td>23233.77</td>\n",
       "    </tr>\n",
       "    <tr>\n",
       "      <th>7</th>\n",
       "      <td>14003.64</td>\n",
       "    </tr>\n",
       "    <tr>\n",
       "      <th>8</th>\n",
       "      <td>14055.93</td>\n",
       "    </tr>\n",
       "    <tr>\n",
       "      <th>9</th>\n",
       "      <td>14568.91</td>\n",
       "    </tr>\n",
       "    <tr>\n",
       "      <th>10</th>\n",
       "      <td>14702.49</td>\n",
       "    </tr>\n",
       "    <tr>\n",
       "      <th>11</th>\n",
       "      <td>14756.47</td>\n",
       "    </tr>\n",
       "    <tr>\n",
       "      <th>12</th>\n",
       "      <td>9817.61</td>\n",
       "    </tr>\n",
       "    <tr>\n",
       "      <th rowspan=\"2\" valign=\"top\">1001</th>\n",
       "      <th>11</th>\n",
       "      <td>18429.34</td>\n",
       "    </tr>\n",
       "    <tr>\n",
       "      <th>12</th>\n",
       "      <td>14036.66</td>\n",
       "    </tr>\n",
       "    <tr>\n",
       "      <th rowspan=\"7\" valign=\"top\">1002</th>\n",
       "      <th>6</th>\n",
       "      <td>10856.82</td>\n",
       "    </tr>\n",
       "    <tr>\n",
       "      <th>7</th>\n",
       "      <td>17580.10</td>\n",
       "    </tr>\n",
       "    <tr>\n",
       "      <th>8</th>\n",
       "      <td>20319.26</td>\n",
       "    </tr>\n",
       "    <tr>\n",
       "      <th>9</th>\n",
       "      <td>16691.08</td>\n",
       "    </tr>\n",
       "    <tr>\n",
       "      <th>10</th>\n",
       "      <td>13888.25</td>\n",
       "    </tr>\n",
       "    <tr>\n",
       "      <th>11</th>\n",
       "      <td>18587.28</td>\n",
       "    </tr>\n",
       "    <tr>\n",
       "      <th>12</th>\n",
       "      <td>18113.73</td>\n",
       "    </tr>\n",
       "    <tr>\n",
       "      <th rowspan=\"5\" valign=\"top\">1003</th>\n",
       "      <th>8</th>\n",
       "      <td>8565.21</td>\n",
       "    </tr>\n",
       "    <tr>\n",
       "      <th>9</th>\n",
       "      <td>12468.87</td>\n",
       "    </tr>\n",
       "    <tr>\n",
       "      <th>10</th>\n",
       "      <td>14768.14</td>\n",
       "    </tr>\n",
       "    <tr>\n",
       "      <th>11</th>\n",
       "      <td>11356.89</td>\n",
       "    </tr>\n",
       "    <tr>\n",
       "      <th>12</th>\n",
       "      <td>10121.53</td>\n",
       "    </tr>\n",
       "    <tr>\n",
       "      <th rowspan=\"8\" valign=\"top\">1004</th>\n",
       "      <th>5</th>\n",
       "      <td>13403.98</td>\n",
       "    </tr>\n",
       "    <tr>\n",
       "      <th>6</th>\n",
       "      <td>17600.02</td>\n",
       "    </tr>\n",
       "    <tr>\n",
       "      <th>7</th>\n",
       "      <td>22229.58</td>\n",
       "    </tr>\n",
       "    <tr>\n",
       "      <th>8</th>\n",
       "      <td>28584.37</td>\n",
       "    </tr>\n",
       "    <tr>\n",
       "      <th>9</th>\n",
       "      <td>15109.03</td>\n",
       "    </tr>\n",
       "    <tr>\n",
       "      <th>10</th>\n",
       "      <td>18475.44</td>\n",
       "    </tr>\n",
       "    <tr>\n",
       "      <th>11</th>\n",
       "      <td>15616.02</td>\n",
       "    </tr>\n",
       "    <tr>\n",
       "      <th>12</th>\n",
       "      <td>18021.04</td>\n",
       "    </tr>\n",
       "  </tbody>\n",
       "</table>\n",
       "</div>"
      ],
      "text/plain": [
       "                mb_used\n",
       "user_id month          \n",
       "1000    5       2253.49\n",
       "        6      23233.77\n",
       "        7      14003.64\n",
       "        8      14055.93\n",
       "        9      14568.91\n",
       "        10     14702.49\n",
       "        11     14756.47\n",
       "        12      9817.61\n",
       "1001    11     18429.34\n",
       "        12     14036.66\n",
       "1002    6      10856.82\n",
       "        7      17580.10\n",
       "        8      20319.26\n",
       "        9      16691.08\n",
       "        10     13888.25\n",
       "        11     18587.28\n",
       "        12     18113.73\n",
       "1003    8       8565.21\n",
       "        9      12468.87\n",
       "        10     14768.14\n",
       "        11     11356.89\n",
       "        12     10121.53\n",
       "1004    5      13403.98\n",
       "        6      17600.02\n",
       "        7      22229.58\n",
       "        8      28584.37\n",
       "        9      15109.03\n",
       "        10     18475.44\n",
       "        11     15616.02\n",
       "        12     18021.04"
      ]
     },
     "execution_count": 139,
     "metadata": {},
     "output_type": "execute_result"
    }
   ],
   "source": [
    "# вывод первых 30 строк на экран\n",
    "\n",
    "sessions_per_month.head(30)"
   ]
  },
  {
   "cell_type": "markdown",
   "metadata": {
    "deletable": false,
    "editable": false
   },
   "source": [
    "### Анализ данных и подсчёт выручки"
   ]
  },
  {
   "cell_type": "markdown",
   "metadata": {
    "deletable": false,
    "editable": false
   },
   "source": [
    "Объединяем все посчитанные выше значения в один датафрейм `user_behavior`.\n",
    "Для каждой пары \"пользователь - месяц\" будут доступны информация о тарифе, количестве звонков, сообщений и потраченных мегабайтах."
   ]
  },
  {
   "cell_type": "code",
   "execution_count": 140,
   "metadata": {
    "deletable": false
   },
   "outputs": [
    {
     "data": {
      "text/plain": [
       "7.6"
      ]
     },
     "execution_count": 140,
     "metadata": {},
     "output_type": "execute_result"
    }
   ],
   "source": [
    "users['churn_date'].count() / users['churn_date'].shape[0] * 100"
   ]
  },
  {
   "cell_type": "markdown",
   "metadata": {
    "deletable": false,
    "editable": false
   },
   "source": [
    "Расторгли договор 7.6% клиентов из датасета"
   ]
  },
  {
   "cell_type": "code",
   "execution_count": 141,
   "metadata": {
    "scrolled": true
   },
   "outputs": [
    {
     "data": {
      "text/html": [
       "<div>\n",
       "<style scoped>\n",
       "    .dataframe tbody tr th:only-of-type {\n",
       "        vertical-align: middle;\n",
       "    }\n",
       "\n",
       "    .dataframe tbody tr th {\n",
       "        vertical-align: top;\n",
       "    }\n",
       "\n",
       "    .dataframe thead th {\n",
       "        text-align: right;\n",
       "    }\n",
       "</style>\n",
       "<table border=\"1\" class=\"dataframe\">\n",
       "  <thead>\n",
       "    <tr style=\"text-align: right;\">\n",
       "      <th></th>\n",
       "      <th>user_id</th>\n",
       "      <th>age</th>\n",
       "      <th>churn_date</th>\n",
       "      <th>city</th>\n",
       "      <th>first_name</th>\n",
       "      <th>last_name</th>\n",
       "      <th>reg_date</th>\n",
       "      <th>tariff</th>\n",
       "    </tr>\n",
       "  </thead>\n",
       "  <tbody>\n",
       "    <tr>\n",
       "      <th>0</th>\n",
       "      <td>1000</td>\n",
       "      <td>52</td>\n",
       "      <td>NaT</td>\n",
       "      <td>Краснодар</td>\n",
       "      <td>Рафаил</td>\n",
       "      <td>Верещагин</td>\n",
       "      <td>2018-05-25</td>\n",
       "      <td>ultra</td>\n",
       "    </tr>\n",
       "    <tr>\n",
       "      <th>1</th>\n",
       "      <td>1001</td>\n",
       "      <td>41</td>\n",
       "      <td>NaT</td>\n",
       "      <td>Москва</td>\n",
       "      <td>Иван</td>\n",
       "      <td>Ежов</td>\n",
       "      <td>2018-11-01</td>\n",
       "      <td>smart</td>\n",
       "    </tr>\n",
       "    <tr>\n",
       "      <th>2</th>\n",
       "      <td>1002</td>\n",
       "      <td>59</td>\n",
       "      <td>NaT</td>\n",
       "      <td>Стерлитамак</td>\n",
       "      <td>Евгений</td>\n",
       "      <td>Абрамович</td>\n",
       "      <td>2018-06-17</td>\n",
       "      <td>smart</td>\n",
       "    </tr>\n",
       "    <tr>\n",
       "      <th>3</th>\n",
       "      <td>1003</td>\n",
       "      <td>23</td>\n",
       "      <td>NaT</td>\n",
       "      <td>Москва</td>\n",
       "      <td>Белла</td>\n",
       "      <td>Белякова</td>\n",
       "      <td>2018-08-17</td>\n",
       "      <td>ultra</td>\n",
       "    </tr>\n",
       "    <tr>\n",
       "      <th>4</th>\n",
       "      <td>1004</td>\n",
       "      <td>68</td>\n",
       "      <td>NaT</td>\n",
       "      <td>Новокузнецк</td>\n",
       "      <td>Татьяна</td>\n",
       "      <td>Авдеенко</td>\n",
       "      <td>2018-05-14</td>\n",
       "      <td>ultra</td>\n",
       "    </tr>\n",
       "  </tbody>\n",
       "</table>\n",
       "</div>"
      ],
      "text/plain": [
       "   user_id  age churn_date         city first_name  last_name   reg_date  \\\n",
       "0     1000   52        NaT    Краснодар     Рафаил  Верещагин 2018-05-25   \n",
       "1     1001   41        NaT       Москва       Иван       Ежов 2018-11-01   \n",
       "2     1002   59        NaT  Стерлитамак    Евгений  Абрамович 2018-06-17   \n",
       "3     1003   23        NaT       Москва      Белла   Белякова 2018-08-17   \n",
       "4     1004   68        NaT  Новокузнецк    Татьяна   Авдеенко 2018-05-14   \n",
       "\n",
       "  tariff  \n",
       "0  ultra  \n",
       "1  smart  \n",
       "2  smart  \n",
       "3  ultra  \n",
       "4  ultra  "
      ]
     },
     "execution_count": 141,
     "metadata": {},
     "output_type": "execute_result"
    }
   ],
   "source": [
    "users.head(5)"
   ]
  },
  {
   "cell_type": "code",
   "execution_count": 142,
   "metadata": {
    "scrolled": true
   },
   "outputs": [
    {
     "data": {
      "text/plain": [
       "(500, 8)"
      ]
     },
     "execution_count": 142,
     "metadata": {},
     "output_type": "execute_result"
    }
   ],
   "source": [
    "users.shape"
   ]
  },
  {
   "cell_type": "code",
   "execution_count": 143,
   "metadata": {
    "deletable": false
   },
   "outputs": [
    {
     "data": {
      "text/html": [
       "<div>\n",
       "<style scoped>\n",
       "    .dataframe tbody tr th:only-of-type {\n",
       "        vertical-align: middle;\n",
       "    }\n",
       "\n",
       "    .dataframe tbody tr th {\n",
       "        vertical-align: top;\n",
       "    }\n",
       "\n",
       "    .dataframe thead th {\n",
       "        text-align: right;\n",
       "    }\n",
       "</style>\n",
       "<table border=\"1\" class=\"dataframe\">\n",
       "  <thead>\n",
       "    <tr style=\"text-align: right;\">\n",
       "      <th></th>\n",
       "      <th>user_id</th>\n",
       "      <th>month</th>\n",
       "      <th>calls</th>\n",
       "      <th>mb_used</th>\n",
       "      <th>minutes</th>\n",
       "      <th>messages</th>\n",
       "      <th>age</th>\n",
       "      <th>churn_date</th>\n",
       "      <th>city</th>\n",
       "      <th>first_name</th>\n",
       "      <th>last_name</th>\n",
       "      <th>reg_date</th>\n",
       "      <th>tariff</th>\n",
       "    </tr>\n",
       "  </thead>\n",
       "  <tbody>\n",
       "    <tr>\n",
       "      <th>0</th>\n",
       "      <td>1000</td>\n",
       "      <td>5</td>\n",
       "      <td>22.0</td>\n",
       "      <td>2253.49</td>\n",
       "      <td>159.0</td>\n",
       "      <td>22.0</td>\n",
       "      <td>52</td>\n",
       "      <td>NaT</td>\n",
       "      <td>Краснодар</td>\n",
       "      <td>Рафаил</td>\n",
       "      <td>Верещагин</td>\n",
       "      <td>2018-05-25</td>\n",
       "      <td>ultra</td>\n",
       "    </tr>\n",
       "    <tr>\n",
       "      <th>1</th>\n",
       "      <td>1000</td>\n",
       "      <td>6</td>\n",
       "      <td>43.0</td>\n",
       "      <td>23233.77</td>\n",
       "      <td>172.0</td>\n",
       "      <td>60.0</td>\n",
       "      <td>52</td>\n",
       "      <td>NaT</td>\n",
       "      <td>Краснодар</td>\n",
       "      <td>Рафаил</td>\n",
       "      <td>Верещагин</td>\n",
       "      <td>2018-05-25</td>\n",
       "      <td>ultra</td>\n",
       "    </tr>\n",
       "    <tr>\n",
       "      <th>2</th>\n",
       "      <td>1000</td>\n",
       "      <td>7</td>\n",
       "      <td>47.0</td>\n",
       "      <td>14003.64</td>\n",
       "      <td>340.0</td>\n",
       "      <td>75.0</td>\n",
       "      <td>52</td>\n",
       "      <td>NaT</td>\n",
       "      <td>Краснодар</td>\n",
       "      <td>Рафаил</td>\n",
       "      <td>Верещагин</td>\n",
       "      <td>2018-05-25</td>\n",
       "      <td>ultra</td>\n",
       "    </tr>\n",
       "    <tr>\n",
       "      <th>3</th>\n",
       "      <td>1000</td>\n",
       "      <td>8</td>\n",
       "      <td>52.0</td>\n",
       "      <td>14055.93</td>\n",
       "      <td>408.0</td>\n",
       "      <td>81.0</td>\n",
       "      <td>52</td>\n",
       "      <td>NaT</td>\n",
       "      <td>Краснодар</td>\n",
       "      <td>Рафаил</td>\n",
       "      <td>Верещагин</td>\n",
       "      <td>2018-05-25</td>\n",
       "      <td>ultra</td>\n",
       "    </tr>\n",
       "    <tr>\n",
       "      <th>4</th>\n",
       "      <td>1000</td>\n",
       "      <td>9</td>\n",
       "      <td>58.0</td>\n",
       "      <td>14568.91</td>\n",
       "      <td>466.0</td>\n",
       "      <td>57.0</td>\n",
       "      <td>52</td>\n",
       "      <td>NaT</td>\n",
       "      <td>Краснодар</td>\n",
       "      <td>Рафаил</td>\n",
       "      <td>Верещагин</td>\n",
       "      <td>2018-05-25</td>\n",
       "      <td>ultra</td>\n",
       "    </tr>\n",
       "  </tbody>\n",
       "</table>\n",
       "</div>"
      ],
      "text/plain": [
       "   user_id  month  calls   mb_used  minutes  messages  age churn_date  \\\n",
       "0     1000      5   22.0   2253.49    159.0      22.0   52        NaT   \n",
       "1     1000      6   43.0  23233.77    172.0      60.0   52        NaT   \n",
       "2     1000      7   47.0  14003.64    340.0      75.0   52        NaT   \n",
       "3     1000      8   52.0  14055.93    408.0      81.0   52        NaT   \n",
       "4     1000      9   58.0  14568.91    466.0      57.0   52        NaT   \n",
       "\n",
       "        city first_name  last_name   reg_date tariff  \n",
       "0  Краснодар     Рафаил  Верещагин 2018-05-25  ultra  \n",
       "1  Краснодар     Рафаил  Верещагин 2018-05-25  ultra  \n",
       "2  Краснодар     Рафаил  Верещагин 2018-05-25  ultra  \n",
       "3  Краснодар     Рафаил  Верещагин 2018-05-25  ultra  \n",
       "4  Краснодар     Рафаил  Верещагин 2018-05-25  ultra  "
      ]
     },
     "execution_count": 143,
     "metadata": {},
     "output_type": "execute_result"
    }
   ],
   "source": [
    "user_behavior = calls_per_month.merge(sessions_per_month, left_index=True, right_index=True, how='outer')\\\n",
    "    .merge(minutes_per_month, left_index=True, right_index=True, how='outer')\\\n",
    "    .merge(messages_per_month, left_index=True, right_index=True, how='outer')\\\n",
    "    .reset_index()\\\n",
    "    .merge(users, how='left', left_on='user_id', right_on='user_id')\\\n",
    "    \n",
    "\n",
    "\n",
    "\n",
    "#(calls,  how='outer', on =['user_id','month']).merge(\n",
    "#sessions_per_month, how = 'outer', on = ['user_id','month']).merge(\n",
    "#minutes_per_month,how = 'outer', on = ['user_id','month']).merge(\n",
    "#users, how = 'outer', on = ['user_id'])\n",
    "\n",
    "user_behavior.head()"
   ]
  },
  {
   "cell_type": "markdown",
   "metadata": {
    "deletable": false,
    "editable": false
   },
   "source": [
    "Проверим пропуски в таблице `user_behavior` после объединения:"
   ]
  },
  {
   "cell_type": "markdown",
   "metadata": {
    "deletable": false,
    "editable": false
   },
   "source": [
    "Заполним образовавшиеся пропуски в данных:"
   ]
  },
  {
   "cell_type": "code",
   "execution_count": 144,
   "metadata": {
    "deletable": false
   },
   "outputs": [
    {
     "data": {
      "text/html": [
       "<div>\n",
       "<style scoped>\n",
       "    .dataframe tbody tr th:only-of-type {\n",
       "        vertical-align: middle;\n",
       "    }\n",
       "\n",
       "    .dataframe tbody tr th {\n",
       "        vertical-align: top;\n",
       "    }\n",
       "\n",
       "    .dataframe thead th {\n",
       "        text-align: right;\n",
       "    }\n",
       "</style>\n",
       "<table border=\"1\" class=\"dataframe\">\n",
       "  <thead>\n",
       "    <tr style=\"text-align: right;\">\n",
       "      <th></th>\n",
       "      <th>user_id</th>\n",
       "      <th>month</th>\n",
       "      <th>calls</th>\n",
       "      <th>mb_used</th>\n",
       "      <th>minutes</th>\n",
       "      <th>messages</th>\n",
       "      <th>age</th>\n",
       "      <th>churn_date</th>\n",
       "      <th>city</th>\n",
       "      <th>first_name</th>\n",
       "      <th>last_name</th>\n",
       "      <th>reg_date</th>\n",
       "      <th>tariff</th>\n",
       "    </tr>\n",
       "  </thead>\n",
       "  <tbody>\n",
       "    <tr>\n",
       "      <th>0</th>\n",
       "      <td>1000</td>\n",
       "      <td>5</td>\n",
       "      <td>22.0</td>\n",
       "      <td>2253.49</td>\n",
       "      <td>159.0</td>\n",
       "      <td>22.0</td>\n",
       "      <td>52</td>\n",
       "      <td>NaT</td>\n",
       "      <td>Краснодар</td>\n",
       "      <td>Рафаил</td>\n",
       "      <td>Верещагин</td>\n",
       "      <td>2018-05-25</td>\n",
       "      <td>ultra</td>\n",
       "    </tr>\n",
       "    <tr>\n",
       "      <th>1</th>\n",
       "      <td>1000</td>\n",
       "      <td>6</td>\n",
       "      <td>43.0</td>\n",
       "      <td>23233.77</td>\n",
       "      <td>172.0</td>\n",
       "      <td>60.0</td>\n",
       "      <td>52</td>\n",
       "      <td>NaT</td>\n",
       "      <td>Краснодар</td>\n",
       "      <td>Рафаил</td>\n",
       "      <td>Верещагин</td>\n",
       "      <td>2018-05-25</td>\n",
       "      <td>ultra</td>\n",
       "    </tr>\n",
       "    <tr>\n",
       "      <th>2</th>\n",
       "      <td>1000</td>\n",
       "      <td>7</td>\n",
       "      <td>47.0</td>\n",
       "      <td>14003.64</td>\n",
       "      <td>340.0</td>\n",
       "      <td>75.0</td>\n",
       "      <td>52</td>\n",
       "      <td>NaT</td>\n",
       "      <td>Краснодар</td>\n",
       "      <td>Рафаил</td>\n",
       "      <td>Верещагин</td>\n",
       "      <td>2018-05-25</td>\n",
       "      <td>ultra</td>\n",
       "    </tr>\n",
       "    <tr>\n",
       "      <th>3</th>\n",
       "      <td>1000</td>\n",
       "      <td>8</td>\n",
       "      <td>52.0</td>\n",
       "      <td>14055.93</td>\n",
       "      <td>408.0</td>\n",
       "      <td>81.0</td>\n",
       "      <td>52</td>\n",
       "      <td>NaT</td>\n",
       "      <td>Краснодар</td>\n",
       "      <td>Рафаил</td>\n",
       "      <td>Верещагин</td>\n",
       "      <td>2018-05-25</td>\n",
       "      <td>ultra</td>\n",
       "    </tr>\n",
       "    <tr>\n",
       "      <th>4</th>\n",
       "      <td>1000</td>\n",
       "      <td>9</td>\n",
       "      <td>58.0</td>\n",
       "      <td>14568.91</td>\n",
       "      <td>466.0</td>\n",
       "      <td>57.0</td>\n",
       "      <td>52</td>\n",
       "      <td>NaT</td>\n",
       "      <td>Краснодар</td>\n",
       "      <td>Рафаил</td>\n",
       "      <td>Верещагин</td>\n",
       "      <td>2018-05-25</td>\n",
       "      <td>ultra</td>\n",
       "    </tr>\n",
       "  </tbody>\n",
       "</table>\n",
       "</div>"
      ],
      "text/plain": [
       "   user_id  month  calls   mb_used  minutes  messages  age churn_date  \\\n",
       "0     1000      5   22.0   2253.49    159.0      22.0   52        NaT   \n",
       "1     1000      6   43.0  23233.77    172.0      60.0   52        NaT   \n",
       "2     1000      7   47.0  14003.64    340.0      75.0   52        NaT   \n",
       "3     1000      8   52.0  14055.93    408.0      81.0   52        NaT   \n",
       "4     1000      9   58.0  14568.91    466.0      57.0   52        NaT   \n",
       "\n",
       "        city first_name  last_name   reg_date tariff  \n",
       "0  Краснодар     Рафаил  Верещагин 2018-05-25  ultra  \n",
       "1  Краснодар     Рафаил  Верещагин 2018-05-25  ultra  \n",
       "2  Краснодар     Рафаил  Верещагин 2018-05-25  ultra  \n",
       "3  Краснодар     Рафаил  Верещагин 2018-05-25  ultra  \n",
       "4  Краснодар     Рафаил  Верещагин 2018-05-25  ultra  "
      ]
     },
     "execution_count": 144,
     "metadata": {},
     "output_type": "execute_result"
    }
   ],
   "source": [
    "user_behavior['calls'] = user_behavior['calls'].fillna(0)\n",
    "user_behavior['minutes'] = user_behavior['minutes'].fillna(0)\n",
    "user_behavior['messages'] = user_behavior['messages'].fillna(0)\n",
    "user_behavior['mb_used'] = user_behavior['mb_used'].fillna(0)\n",
    "user_behavior = user_behavior.dropna(subset=['month'])\n",
    "\n",
    "user_behavior.head()"
   ]
  },
  {
   "cell_type": "code",
   "execution_count": 145,
   "metadata": {
    "deletable": false
   },
   "outputs": [
    {
     "data": {
      "text/plain": [
       "user_id          0\n",
       "month            0\n",
       "calls            0\n",
       "mb_used          0\n",
       "minutes          0\n",
       "messages         0\n",
       "age              0\n",
       "churn_date    3027\n",
       "city             0\n",
       "first_name       0\n",
       "last_name        0\n",
       "reg_date         0\n",
       "tariff           0\n",
       "dtype: int64"
      ]
     },
     "execution_count": 145,
     "metadata": {},
     "output_type": "execute_result"
    }
   ],
   "source": [
    "user_behavior.isna().sum()"
   ]
  },
  {
   "cell_type": "markdown",
   "metadata": {
    "deletable": false,
    "editable": false
   },
   "source": [
    "Присоединяем информацию о тарифах"
   ]
  },
  {
   "cell_type": "code",
   "execution_count": 146,
   "metadata": {
    "deletable": false
   },
   "outputs": [],
   "source": [
    "# переименование столбца tariff_name на более простое tariff\n",
    "\n",
    "tariffs = tariffs.rename(columns={'tariff_name': 'tariff'})"
   ]
  },
  {
   "cell_type": "code",
   "execution_count": 147,
   "metadata": {
    "deletable": false
   },
   "outputs": [],
   "source": [
    "user_behavior = user_behavior.merge(tariffs, on='tariff')"
   ]
  },
  {
   "cell_type": "markdown",
   "metadata": {
    "deletable": false,
    "editable": false
   },
   "source": [
    "Считаем количество минут разговора, сообщений и мегабайт, превышающих включенные в тариф\n"
   ]
  },
  {
   "cell_type": "code",
   "execution_count": 149,
   "metadata": {
    "deletable": false
   },
   "outputs": [],
   "source": [
    "user_behavior['paid_minutes'] = user_behavior['minutes'] - user_behavior['minutes_included']\n",
    "user_behavior['paid_messages'] = user_behavior['messages'] - user_behavior['messages_included']\n",
    "user_behavior['paid_mb'] = user_behavior['mb_used'] - user_behavior['mb_per_month_included']\n",
    "\n",
    "for col in ['paid_messages', 'paid_minutes', 'paid_mb']:\n",
    "    user_behavior.loc[user_behavior[col] < 0, col] = 0"
   ]
  },
  {
   "cell_type": "markdown",
   "metadata": {
    "deletable": false,
    "editable": false
   },
   "source": [
    "Переводим превышающие тариф мегабайты в гигабайты и сохраняем в столбец `paid_gb`"
   ]
  },
  {
   "cell_type": "code",
   "execution_count": 150,
   "metadata": {
    "deletable": false
   },
   "outputs": [],
   "source": [
    "user_behavior['paid_gb'] = np.ceil(user_behavior['paid_mb'] / 1024).astype(int)"
   ]
  },
  {
   "cell_type": "markdown",
   "metadata": {
    "deletable": false,
    "editable": false
   },
   "source": [
    "Считаем выручку за минуты разговора, сообщения и интернет"
   ]
  },
  {
   "cell_type": "code",
   "execution_count": 151,
   "metadata": {
    "deletable": false
   },
   "outputs": [],
   "source": [
    "user_behavior['cost_minutes'] = user_behavior['paid_minutes'] * user_behavior['rub_per_minute']\n",
    "user_behavior['cost_messages'] = user_behavior['paid_messages'] * user_behavior['rub_per_message']\n",
    "user_behavior['cost_gb'] = user_behavior['paid_gb'] * user_behavior['rub_per_gb']"
   ]
  },
  {
   "cell_type": "markdown",
   "metadata": {
    "deletable": false,
    "editable": false
   },
   "source": [
    "Считаем помесячную выручку с каждого пользователя, она будет храниться в столбец `total_cost`"
   ]
  },
  {
   "cell_type": "code",
   "execution_count": 152,
   "metadata": {
    "deletable": false
   },
   "outputs": [],
   "source": [
    "user_behavior['total_cost'] = \\\n",
    "      user_behavior['rub_monthly_fee']\\\n",
    "    + user_behavior['cost_minutes']\\\n",
    "    + user_behavior['cost_messages']\\\n",
    "    + user_behavior['cost_gb']"
   ]
  },
  {
   "cell_type": "markdown",
   "metadata": {
    "deletable": false,
    "editable": false
   },
   "source": [
    "Датафрейм `stats_df` для каждой пары \"месяц-тариф\" будет хранить основные характеристики"
   ]
  },
  {
   "cell_type": "code",
   "execution_count": 153,
   "metadata": {
    "deletable": false
   },
   "outputs": [
    {
     "data": {
      "text/html": [
       "<div>\n",
       "<style scoped>\n",
       "    .dataframe tbody tr th:only-of-type {\n",
       "        vertical-align: middle;\n",
       "    }\n",
       "\n",
       "    .dataframe tbody tr th {\n",
       "        vertical-align: top;\n",
       "    }\n",
       "\n",
       "    .dataframe thead th {\n",
       "        text-align: right;\n",
       "    }\n",
       "</style>\n",
       "<table border=\"1\" class=\"dataframe\">\n",
       "  <thead>\n",
       "    <tr style=\"text-align: right;\">\n",
       "      <th></th>\n",
       "      <th>month</th>\n",
       "      <th>tariff</th>\n",
       "      <th>calls_mean</th>\n",
       "      <th>sessions_mean</th>\n",
       "      <th>messages_mean</th>\n",
       "      <th>minutes_mean</th>\n",
       "      <th>calls_std</th>\n",
       "      <th>sessions_std</th>\n",
       "      <th>messages_std</th>\n",
       "      <th>minutes_std</th>\n",
       "      <th>calls_median</th>\n",
       "      <th>sessions_median</th>\n",
       "      <th>messages_median</th>\n",
       "      <th>minutes_median</th>\n",
       "    </tr>\n",
       "  </thead>\n",
       "  <tbody>\n",
       "    <tr>\n",
       "      <th>0</th>\n",
       "      <td>1</td>\n",
       "      <td>smart</td>\n",
       "      <td>27.68</td>\n",
       "      <td>8513.72</td>\n",
       "      <td>18.24</td>\n",
       "      <td>203.85</td>\n",
       "      <td>20.81</td>\n",
       "      <td>6444.68</td>\n",
       "      <td>16.20</td>\n",
       "      <td>154.23</td>\n",
       "      <td>20.5</td>\n",
       "      <td>7096.18</td>\n",
       "      <td>15.0</td>\n",
       "      <td>162.5</td>\n",
       "    </tr>\n",
       "    <tr>\n",
       "      <th>1</th>\n",
       "      <td>1</td>\n",
       "      <td>ultra</td>\n",
       "      <td>59.44</td>\n",
       "      <td>13140.68</td>\n",
       "      <td>33.78</td>\n",
       "      <td>428.11</td>\n",
       "      <td>41.64</td>\n",
       "      <td>6865.35</td>\n",
       "      <td>30.67</td>\n",
       "      <td>269.76</td>\n",
       "      <td>51.0</td>\n",
       "      <td>14791.37</td>\n",
       "      <td>32.0</td>\n",
       "      <td>382.0</td>\n",
       "    </tr>\n",
       "    <tr>\n",
       "      <th>2</th>\n",
       "      <td>2</td>\n",
       "      <td>smart</td>\n",
       "      <td>40.19</td>\n",
       "      <td>11597.05</td>\n",
       "      <td>24.09</td>\n",
       "      <td>298.69</td>\n",
       "      <td>25.39</td>\n",
       "      <td>6247.35</td>\n",
       "      <td>21.75</td>\n",
       "      <td>190.82</td>\n",
       "      <td>38.5</td>\n",
       "      <td>12553.71</td>\n",
       "      <td>20.0</td>\n",
       "      <td>258.0</td>\n",
       "    </tr>\n",
       "    <tr>\n",
       "      <th>3</th>\n",
       "      <td>2</td>\n",
       "      <td>ultra</td>\n",
       "      <td>41.54</td>\n",
       "      <td>11775.94</td>\n",
       "      <td>21.96</td>\n",
       "      <td>297.12</td>\n",
       "      <td>40.97</td>\n",
       "      <td>10644.64</td>\n",
       "      <td>26.77</td>\n",
       "      <td>296.51</td>\n",
       "      <td>25.0</td>\n",
       "      <td>7327.12</td>\n",
       "      <td>5.5</td>\n",
       "      <td>168.0</td>\n",
       "    </tr>\n",
       "    <tr>\n",
       "      <th>4</th>\n",
       "      <td>3</td>\n",
       "      <td>smart</td>\n",
       "      <td>54.32</td>\n",
       "      <td>15104.16</td>\n",
       "      <td>31.86</td>\n",
       "      <td>390.05</td>\n",
       "      <td>25.54</td>\n",
       "      <td>5828.24</td>\n",
       "      <td>26.80</td>\n",
       "      <td>191.89</td>\n",
       "      <td>59.0</td>\n",
       "      <td>15670.25</td>\n",
       "      <td>23.0</td>\n",
       "      <td>409.0</td>\n",
       "    </tr>\n",
       "    <tr>\n",
       "      <th>5</th>\n",
       "      <td>3</td>\n",
       "      <td>ultra</td>\n",
       "      <td>67.68</td>\n",
       "      <td>17535.55</td>\n",
       "      <td>32.30</td>\n",
       "      <td>489.65</td>\n",
       "      <td>44.84</td>\n",
       "      <td>10951.79</td>\n",
       "      <td>41.62</td>\n",
       "      <td>333.74</td>\n",
       "      <td>57.0</td>\n",
       "      <td>17495.18</td>\n",
       "      <td>20.0</td>\n",
       "      <td>403.0</td>\n",
       "    </tr>\n",
       "    <tr>\n",
       "      <th>6</th>\n",
       "      <td>4</td>\n",
       "      <td>smart</td>\n",
       "      <td>51.31</td>\n",
       "      <td>13462.18</td>\n",
       "      <td>30.74</td>\n",
       "      <td>367.13</td>\n",
       "      <td>25.70</td>\n",
       "      <td>5698.25</td>\n",
       "      <td>24.54</td>\n",
       "      <td>186.49</td>\n",
       "      <td>52.0</td>\n",
       "      <td>14087.65</td>\n",
       "      <td>28.0</td>\n",
       "      <td>368.5</td>\n",
       "    </tr>\n",
       "    <tr>\n",
       "      <th>7</th>\n",
       "      <td>4</td>\n",
       "      <td>ultra</td>\n",
       "      <td>64.09</td>\n",
       "      <td>16828.13</td>\n",
       "      <td>31.56</td>\n",
       "      <td>458.02</td>\n",
       "      <td>36.27</td>\n",
       "      <td>9718.65</td>\n",
       "      <td>37.51</td>\n",
       "      <td>267.68</td>\n",
       "      <td>61.0</td>\n",
       "      <td>16645.78</td>\n",
       "      <td>17.0</td>\n",
       "      <td>453.0</td>\n",
       "    </tr>\n",
       "    <tr>\n",
       "      <th>8</th>\n",
       "      <td>5</td>\n",
       "      <td>smart</td>\n",
       "      <td>55.24</td>\n",
       "      <td>15805.18</td>\n",
       "      <td>33.77</td>\n",
       "      <td>387.36</td>\n",
       "      <td>25.38</td>\n",
       "      <td>5978.23</td>\n",
       "      <td>27.04</td>\n",
       "      <td>186.60</td>\n",
       "      <td>59.0</td>\n",
       "      <td>16323.94</td>\n",
       "      <td>30.0</td>\n",
       "      <td>433.0</td>\n",
       "    </tr>\n",
       "    <tr>\n",
       "      <th>9</th>\n",
       "      <td>5</td>\n",
       "      <td>ultra</td>\n",
       "      <td>72.51</td>\n",
       "      <td>19363.15</td>\n",
       "      <td>37.85</td>\n",
       "      <td>510.33</td>\n",
       "      <td>41.08</td>\n",
       "      <td>10046.11</td>\n",
       "      <td>40.31</td>\n",
       "      <td>289.60</td>\n",
       "      <td>75.0</td>\n",
       "      <td>18696.43</td>\n",
       "      <td>25.0</td>\n",
       "      <td>519.0</td>\n",
       "    </tr>\n",
       "  </tbody>\n",
       "</table>\n",
       "</div>"
      ],
      "text/plain": [
       "   month tariff  calls_mean  sessions_mean  messages_mean  minutes_mean  \\\n",
       "0      1  smart       27.68        8513.72          18.24        203.85   \n",
       "1      1  ultra       59.44       13140.68          33.78        428.11   \n",
       "2      2  smart       40.19       11597.05          24.09        298.69   \n",
       "3      2  ultra       41.54       11775.94          21.96        297.12   \n",
       "4      3  smart       54.32       15104.16          31.86        390.05   \n",
       "5      3  ultra       67.68       17535.55          32.30        489.65   \n",
       "6      4  smart       51.31       13462.18          30.74        367.13   \n",
       "7      4  ultra       64.09       16828.13          31.56        458.02   \n",
       "8      5  smart       55.24       15805.18          33.77        387.36   \n",
       "9      5  ultra       72.51       19363.15          37.85        510.33   \n",
       "\n",
       "   calls_std  sessions_std  messages_std  minutes_std  calls_median  \\\n",
       "0      20.81       6444.68         16.20       154.23          20.5   \n",
       "1      41.64       6865.35         30.67       269.76          51.0   \n",
       "2      25.39       6247.35         21.75       190.82          38.5   \n",
       "3      40.97      10644.64         26.77       296.51          25.0   \n",
       "4      25.54       5828.24         26.80       191.89          59.0   \n",
       "5      44.84      10951.79         41.62       333.74          57.0   \n",
       "6      25.70       5698.25         24.54       186.49          52.0   \n",
       "7      36.27       9718.65         37.51       267.68          61.0   \n",
       "8      25.38       5978.23         27.04       186.60          59.0   \n",
       "9      41.08      10046.11         40.31       289.60          75.0   \n",
       "\n",
       "   sessions_median  messages_median  minutes_median  \n",
       "0          7096.18             15.0           162.5  \n",
       "1         14791.37             32.0           382.0  \n",
       "2         12553.71             20.0           258.0  \n",
       "3          7327.12              5.5           168.0  \n",
       "4         15670.25             23.0           409.0  \n",
       "5         17495.18             20.0           403.0  \n",
       "6         14087.65             28.0           368.5  \n",
       "7         16645.78             17.0           453.0  \n",
       "8         16323.94             30.0           433.0  \n",
       "9         18696.43             25.0           519.0  "
      ]
     },
     "execution_count": 153,
     "metadata": {},
     "output_type": "execute_result"
    }
   ],
   "source": [
    "# сохранение статистических метрик для каждой пары месяц-тариф\n",
    "# в одной таблице stats_df (среднее значение, стандартное отклонение, медиана)\n",
    "\n",
    "stats_df = user_behavior.pivot_table(\n",
    "            index=['month', 'tariff'],\\\n",
    "            values=['calls', 'minutes', 'messages', 'mb_used'],\\\n",
    "            aggfunc=['mean', 'std', 'median']\\\n",
    ").round(2).reset_index()\n",
    "\n",
    "stats_df.columns=['month','tariff', 'calls_mean', 'sessions_mean', 'messages_mean', 'minutes_mean',\n",
    "                                     'calls_std',  'sessions_std', 'messages_std', 'minutes_std', \n",
    "                                     'calls_median', 'sessions_median', 'messages_median',  'minutes_median']\n",
    "\n",
    "stats_df.head(10)"
   ]
  },
  {
   "cell_type": "markdown",
   "metadata": {
    "deletable": false,
    "editable": false
   },
   "source": [
    "Распределение среднего количества звонков по видам тарифов и месяцам"
   ]
  },
  {
   "cell_type": "code",
   "execution_count": 154,
   "metadata": {
    "deletable": false
   },
   "outputs": [
    {
     "data": {
      "image/png": "[encoded data removed]",
      "text/plain": [
       "<Figure size 432x288 with 1 Axes>"
      ]
     },
     "metadata": {
      "needs_background": "light"
     },
     "output_type": "display_data"
    }
   ],
   "source": [
    "import seaborn as sns\n",
    "\n",
    "ax = sns.barplot(x='month',\n",
    "            y='calls_mean',\n",
    "            hue=\"tariff\",\n",
    "            data=stats_df,\n",
    "            palette=['lightblue', 'blue'])\n",
    "\n",
    "ax.set_title('Распределение количества звонков по видам тарифов и месяцам')\n",
    "ax.set(xlabel='Номер месяца', ylabel='Среднее количество звонков');"
   ]
  },
  {
   "cell_type": "code",
   "execution_count": 155,
   "metadata": {
    "deletable": false
   },
   "outputs": [
    {
     "data": {
      "image/png": "[encoded data removed]",
      "text/plain": [
       "<Figure size 432x288 with 1 Axes>"
      ]
     },
     "metadata": {
      "needs_background": "light"
     },
     "output_type": "display_data"
    }
   ],
   "source": [
    "import matplotlib.pyplot as plt\n",
    "\n",
    "user_behavior.groupby('tariff')['calls'].plot(kind='hist', bins=35, alpha=0.5)\n",
    "plt.legend(['Smart', 'Ultra'])\n",
    "plt.xlabel('Количество звонков')\n",
    "plt.ylabel('Количество клиентов')\n",
    "plt.show()"
   ]
  },
  {
   "cell_type": "markdown",
   "metadata": {
    "deletable": false,
    "editable": false
   },
   "source": [
    "Распределение средней продолжительности звонков по видам тарифов и месяцам"
   ]
  },
  {
   "cell_type": "code",
   "execution_count": 156,
   "metadata": {
    "deletable": false
   },
   "outputs": [
    {
     "data": {
      "image/png": "[encoded data removed]",
      "text/plain": [
       "<Figure size 432x288 with 1 Axes>"
      ]
     },
     "metadata": {
      "needs_background": "light"
     },
     "output_type": "display_data"
    }
   ],
   "source": [
    "ax = sns.barplot(x='month',\n",
    "            y='minutes_mean',\n",
    "            hue=\"tariff\",\n",
    "            data=stats_df,\n",
    "            palette=['lightblue', 'blue'])\n",
    "\n",
    "ax.set_title('Распределение продолжительности звонков по видам тарифов и месяцам')\n",
    "ax.set(xlabel='Номер месяца', ylabel='Средняя продолжительность звонков');"
   ]
  },
  {
   "cell_type": "code",
   "execution_count": 157,
   "metadata": {
    "deletable": false
   },
   "outputs": [
    {
     "data": {
      "image/png": "[encoded data removed]",
      "text/plain": [
       "<Figure size 432x288 with 1 Axes>"
      ]
     },
     "metadata": {
      "needs_background": "light"
     },
     "output_type": "display_data"
    }
   ],
   "source": [
    "user_behavior[user_behavior['tariff'] =='smart']['minutes'].hist(bins=35, alpha=0.5, color='green')\n",
    "user_behavior[user_behavior['tariff'] =='ultra']['minutes'].hist(bins=35, alpha=0.5, color='blue');"
   ]
  },
  {
   "cell_type": "markdown",
   "metadata": {
    "deletable": false,
    "editable": false
   },
   "source": [
    "Средняя длительность разговоров у абонентов тарифа Ultra больше, чем у абонентов тарифа Smart. В течение года пользователи обоих тарифов увеличивают среднюю продолжительность своих разговоров. Рост средней длительности разговоров у абонентов тарифа Smart равномерный в течение года. Пользователи тарифа Ultra не проявляют подобной линейной стабильности. Стоит отметить, что феврале у абонентов обоих тарифных планов наблюдались самые низкие показатели."
   ]
  },
  {
   "cell_type": "markdown",
   "metadata": {
    "deletable": false,
    "editable": false
   },
   "source": [
    "Распределение среднего количества сообщений по видам тарифов и месяцам"
   ]
  },
  {
   "cell_type": "code",
   "execution_count": 158,
   "metadata": {
    "deletable": false
   },
   "outputs": [
    {
     "data": {
      "image/png": "[encoded data removed]",
      "text/plain": [
       "<Figure size 432x288 with 1 Axes>"
      ]
     },
     "metadata": {
      "needs_background": "light"
     },
     "output_type": "display_data"
    }
   ],
   "source": [
    "ax = sns.barplot(x='month',\n",
    "            y='messages_mean',\n",
    "            hue=\"tariff\",\n",
    "            data=stats_df,\n",
    "            palette=['lightblue', 'blue']\n",
    ")\n",
    "\n",
    "ax.set_title('Распределение количества сообщений по видам тарифов и месяцам')\n",
    "ax.set(xlabel='Номер месяца', ylabel='Среднее количество сообщений');"
   ]
  },
  {
   "cell_type": "code",
   "execution_count": 159,
   "metadata": {
    "deletable": false
   },
   "outputs": [
    {
     "data": {
      "image/png": "[encoded data removed]",
      "text/plain": [
       "<Figure size 432x288 with 1 Axes>"
      ]
     },
     "metadata": {
      "needs_background": "light"
     },
     "output_type": "display_data"
    }
   ],
   "source": [
    "user_behavior[user_behavior['tariff'] =='smart']['messages'].hist(bins=35, alpha=0.5, color='green')\n",
    "user_behavior[user_behavior['tariff'] =='ultra']['messages'].hist(bins=35, alpha=0.5, color='blue');"
   ]
  },
  {
   "cell_type": "markdown",
   "metadata": {},
   "source": [
    "В среднем количество сообщений пользователи тарифа Ultra отправляют больше - почти на 20 сообщений больше, чем пользователи тарифа Smart. Количество сообщений в течение года на обоих тарифак растет. Динамика по отправке сообщений схожа с тенденциями по длительности разговоров: в феврале отмечено наименьшее количество сообщений за год и пользователи тарифа Ultra также проявляют нелинейную положительную динамику."
   ]
  },
  {
   "cell_type": "code",
   "execution_count": 160,
   "metadata": {
    "deletable": false
   },
   "outputs": [
    {
     "data": {
      "image/png": "[encoded data removed]",
      "text/plain": [
       "<Figure size 432x288 with 1 Axes>"
      ]
     },
     "metadata": {
      "needs_background": "light"
     },
     "output_type": "display_data"
    }
   ],
   "source": [
    "ax = sns.barplot(x='month',\n",
    "            y='sessions_mean',\n",
    "            hue=\"tariff\",\n",
    "            data=stats_df,\n",
    "            palette=['lightblue', 'blue']\n",
    ")\n",
    "\n",
    "ax.set_title('Распределение количества потраченного трафика (Мб) по видам тарифов и месяцам')\n",
    "ax.set(xlabel='Номер месяца', ylabel='Среднее количество мегабайт');"
   ]
  },
  {
   "cell_type": "markdown",
   "metadata": {
    "deletable": false,
    "editable": false
   },
   "source": [
    "Сравнение потраченных мегабайт среди пользователей тарифов Smart и Ultra"
   ]
  },
  {
   "cell_type": "code",
   "execution_count": 161,
   "metadata": {
    "deletable": false
   },
   "outputs": [
    {
     "data": {
      "image/png": "[encoded data removed]",
      "text/plain": [
       "<Figure size 432x288 with 1 Axes>"
      ]
     },
     "metadata": {
      "needs_background": "light"
     },
     "output_type": "display_data"
    }
   ],
   "source": [
    "user_behavior[user_behavior['tariff'] =='smart']['mb_used'].hist(bins=35, alpha=0.5, color='green')\n",
    "user_behavior[user_behavior['tariff'] =='ultra']['mb_used'].hist(bins=35, alpha=0.5, color='blue');"
   ]
  },
  {
   "cell_type": "markdown",
   "metadata": {
    "deletable": false,
    "editable": false
   },
   "source": [
    "Меньше всего пользователи использовали интернет в январе, феврале и апреле. Чаще всего абоненты тарифа Smart тратят 15-17 Гб, а абоненты тарифного плана Ultra - 19-21 ГБ."
   ]
  },
  {
   "cell_type": "markdown",
   "metadata": {
    "deletable": false,
    "editable": false
   },
   "source": [
    "### Проверка гипотез"
   ]
  },
  {
   "cell_type": "markdown",
   "metadata": {
    "deletable": false,
    "editable": false,
    "tags": [
     "start_task"
    ]
   },
   "source": [
    "**Задание 28.** Проверка гипотезы: средняя выручка пользователей тарифов «Ультра» и «Смарт» различаются;\n",
    "\n",
    "```\n",
    "H_0: Выручка (total_cost) пользователей \"Ультра\" = выручка (total_cost) пользователей \"Смарт\"`\n",
    "H_a: Выручка (total_cost) пользователей \"Ультра\" ≠ выручка (total_cost) пользователей \"Смарт\"`\n",
    "alpha = 0.05\n",
    "```"
   ]
  },
  {
   "cell_type": "code",
   "execution_count": 162,
   "metadata": {
    "deletable": false
   },
   "outputs": [],
   "source": [
    "from scipy import stats as st"
   ]
  },
  {
   "cell_type": "code",
   "execution_count": 163,
   "metadata": {
    "deletable": false
   },
   "outputs": [
    {
     "name": "stdout",
     "output_type": "stream",
     "text": [
      "4.2606313931076085e-250\n",
      "Отвергаем нулевую гипотезу\n"
     ]
    }
   ],
   "source": [
    "#array1 = user_behavior[user_behavior['tariff'] =='ultra'].total_cost.values\n",
    "\n",
    "#array2 = user_behavior[user_behavior['tariff'] =='smart'].total_cost.values #вызов метода для проверки гипотезы\n",
    "\n",
    "results = st.ttest_ind(\n",
    "    user_behavior.loc[user_behavior.tariff =='ultra','total_cost'],\n",
    "    user_behavior.loc[user_behavior.tariff =='smart','total_cost'], \n",
    "    equal_var=False)\n",
    "\n",
    "alpha = .05   #задайте значение уровня значимости\n",
    "\n",
    "print(results.pvalue)\n",
    "#print('p-значение:', results.pvalue)\n",
    "\n",
    "if results.pvalue < alpha:\n",
    "    print(\"Отвергаем нулевую гипотезу\")\n",
    "else:\n",
    "    print(\"Не получилось отвергнуть нулевую гипотезу\") \n",
    "\n",
    "# вывод значения p-value на экран \n",
    "# условный оператор с выводом строки с ответом"
   ]
  },
  {
   "cell_type": "markdown",
   "metadata": {
    "deletable": false,
    "editable": false,
    "tags": [
     "start_task"
    ]
   },
   "source": [
    "**Задание 29.** Проверка гипотезы: пользователи из Москвы приносят больше выручки, чем пользователи из других городов;\n",
    "\n",
    "```\n",
    "H_0: Выручка (total_cost) пользователей из Москвы = выручка (total_cost) пользователей не из Москвы`\n",
    "H_1: Выручка (total_cost) пользователей из Москвы ≠ выручка (total_cost) пользователей не из Москвы`\n",
    "alpha = 0.05\n",
    "```"
   ]
  },
  {
   "cell_type": "code",
   "execution_count": 164,
   "metadata": {},
   "outputs": [
    {
     "data": {
      "text/html": [
       "<div>\n",
       "<style scoped>\n",
       "    .dataframe tbody tr th:only-of-type {\n",
       "        vertical-align: middle;\n",
       "    }\n",
       "\n",
       "    .dataframe tbody tr th {\n",
       "        vertical-align: top;\n",
       "    }\n",
       "\n",
       "    .dataframe thead th {\n",
       "        text-align: right;\n",
       "    }\n",
       "</style>\n",
       "<table border=\"1\" class=\"dataframe\">\n",
       "  <thead>\n",
       "    <tr style=\"text-align: right;\">\n",
       "      <th></th>\n",
       "      <th>user_id</th>\n",
       "      <th>month</th>\n",
       "      <th>calls</th>\n",
       "      <th>mb_used</th>\n",
       "      <th>minutes</th>\n",
       "      <th>messages</th>\n",
       "      <th>age</th>\n",
       "      <th>churn_date</th>\n",
       "      <th>city</th>\n",
       "      <th>first_name</th>\n",
       "      <th>...</th>\n",
       "      <th>rub_per_message</th>\n",
       "      <th>rub_per_minute</th>\n",
       "      <th>paid_minutes</th>\n",
       "      <th>paid_messages</th>\n",
       "      <th>paid_mb</th>\n",
       "      <th>paid_gb</th>\n",
       "      <th>cost_minutes</th>\n",
       "      <th>cost_messages</th>\n",
       "      <th>cost_gb</th>\n",
       "      <th>total_cost</th>\n",
       "    </tr>\n",
       "  </thead>\n",
       "  <tbody>\n",
       "    <tr>\n",
       "      <th>0</th>\n",
       "      <td>1000</td>\n",
       "      <td>5</td>\n",
       "      <td>22.0</td>\n",
       "      <td>2253.49</td>\n",
       "      <td>159.0</td>\n",
       "      <td>22.0</td>\n",
       "      <td>52</td>\n",
       "      <td>NaT</td>\n",
       "      <td>Краснодар</td>\n",
       "      <td>Рафаил</td>\n",
       "      <td>...</td>\n",
       "      <td>1</td>\n",
       "      <td>1</td>\n",
       "      <td>0.0</td>\n",
       "      <td>0.0</td>\n",
       "      <td>0.0</td>\n",
       "      <td>0</td>\n",
       "      <td>0.0</td>\n",
       "      <td>0.0</td>\n",
       "      <td>0</td>\n",
       "      <td>1950.0</td>\n",
       "    </tr>\n",
       "    <tr>\n",
       "      <th>1</th>\n",
       "      <td>1000</td>\n",
       "      <td>6</td>\n",
       "      <td>43.0</td>\n",
       "      <td>23233.77</td>\n",
       "      <td>172.0</td>\n",
       "      <td>60.0</td>\n",
       "      <td>52</td>\n",
       "      <td>NaT</td>\n",
       "      <td>Краснодар</td>\n",
       "      <td>Рафаил</td>\n",
       "      <td>...</td>\n",
       "      <td>1</td>\n",
       "      <td>1</td>\n",
       "      <td>0.0</td>\n",
       "      <td>0.0</td>\n",
       "      <td>0.0</td>\n",
       "      <td>0</td>\n",
       "      <td>0.0</td>\n",
       "      <td>0.0</td>\n",
       "      <td>0</td>\n",
       "      <td>1950.0</td>\n",
       "    </tr>\n",
       "  </tbody>\n",
       "</table>\n",
       "<p>2 rows × 28 columns</p>\n",
       "</div>"
      ],
      "text/plain": [
       "   user_id  month  calls   mb_used  minutes  messages  age churn_date  \\\n",
       "0     1000      5   22.0   2253.49    159.0      22.0   52        NaT   \n",
       "1     1000      6   43.0  23233.77    172.0      60.0   52        NaT   \n",
       "\n",
       "        city first_name  ... rub_per_message rub_per_minute paid_minutes  \\\n",
       "0  Краснодар     Рафаил  ...               1              1          0.0   \n",
       "1  Краснодар     Рафаил  ...               1              1          0.0   \n",
       "\n",
       "   paid_messages  paid_mb  paid_gb  cost_minutes  cost_messages  cost_gb  \\\n",
       "0            0.0      0.0        0           0.0            0.0        0   \n",
       "1            0.0      0.0        0           0.0            0.0        0   \n",
       "\n",
       "   total_cost  \n",
       "0      1950.0  \n",
       "1      1950.0  \n",
       "\n",
       "[2 rows x 28 columns]"
      ]
     },
     "execution_count": 164,
     "metadata": {},
     "output_type": "execute_result"
    }
   ],
   "source": [
    "user_behavior.head(2)"
   ]
  },
  {
   "cell_type": "code",
   "execution_count": 165,
   "metadata": {},
   "outputs": [
    {
     "data": {
      "text/html": [
       "<div>\n",
       "<style scoped>\n",
       "    .dataframe tbody tr th:only-of-type {\n",
       "        vertical-align: middle;\n",
       "    }\n",
       "\n",
       "    .dataframe tbody tr th {\n",
       "        vertical-align: top;\n",
       "    }\n",
       "\n",
       "    .dataframe thead th {\n",
       "        text-align: right;\n",
       "    }\n",
       "</style>\n",
       "<table border=\"1\" class=\"dataframe\">\n",
       "  <thead>\n",
       "    <tr style=\"text-align: right;\">\n",
       "      <th></th>\n",
       "      <th>user_id</th>\n",
       "      <th>month</th>\n",
       "      <th>calls</th>\n",
       "      <th>mb_used</th>\n",
       "      <th>minutes</th>\n",
       "      <th>messages</th>\n",
       "      <th>age</th>\n",
       "      <th>churn_date</th>\n",
       "      <th>city</th>\n",
       "      <th>first_name</th>\n",
       "      <th>...</th>\n",
       "      <th>rub_per_message</th>\n",
       "      <th>rub_per_minute</th>\n",
       "      <th>paid_minutes</th>\n",
       "      <th>paid_messages</th>\n",
       "      <th>paid_mb</th>\n",
       "      <th>paid_gb</th>\n",
       "      <th>cost_minutes</th>\n",
       "      <th>cost_messages</th>\n",
       "      <th>cost_gb</th>\n",
       "      <th>total_cost</th>\n",
       "    </tr>\n",
       "  </thead>\n",
       "  <tbody>\n",
       "  </tbody>\n",
       "</table>\n",
       "<p>0 rows × 28 columns</p>\n",
       "</div>"
      ],
      "text/plain": [
       "Empty DataFrame\n",
       "Columns: [user_id, month, calls, mb_used, minutes, messages, age, churn_date, city, first_name, last_name, reg_date, tariff, messages_included, mb_per_month_included, minutes_included, rub_monthly_fee, rub_per_gb, rub_per_message, rub_per_minute, paid_minutes, paid_messages, paid_mb, paid_gb, cost_minutes, cost_messages, cost_gb, total_cost]\n",
       "Index: []\n",
       "\n",
       "[0 rows x 28 columns]"
      ]
     },
     "execution_count": 165,
     "metadata": {},
     "output_type": "execute_result"
    }
   ],
   "source": [
    "user_behavior[user_behavior['city'] =='Москвы']\n"
   ]
  },
  {
   "cell_type": "code",
   "execution_count": 166,
   "metadata": {
    "deletable": false
   },
   "outputs": [
    {
     "name": "stdout",
     "output_type": "stream",
     "text": [
      "p-значение: 0.2720076455835112\n",
      "Не получилось отвергнуть нулевую гипотезу\n"
     ]
    }
   ],
   "source": [
    "array1 = user_behavior[user_behavior['city'] =='Москва'].total_cost.values\n",
    "\n",
    "array2 = user_behavior[user_behavior['city'] != 'Москва'].total_cost.values #вызов метода для проверки гипотезы\n",
    "\n",
    "results = st.ttest_ind (array1, array2)\n",
    "\n",
    "alpha = .05   #задайте значение уровня значимости\n",
    "\n",
    "\n",
    "print('p-значение:', results.pvalue/2)\n",
    "\n",
    "if results.pvalue/2 < alpha and array1.mean() < array2.mean():\n",
    "    print(\"Отвергаем нулевую гипотезу\")\n",
    "else:\n",
    "    print(\"Не получилось отвергнуть нулевую гипотезу\")\n",
    "\n",
    "\n",
    "# results = вызов метода для проверки гипотезы\n",
    "\n",
    "# alpha = задайте значение уровня значимости\n",
    "\n",
    "# вывод значения p-value на экран \n",
    "# условный оператор с выводом строки с ответом"
   ]
  },
  {
   "cell_type": "markdown",
   "metadata": {},
   "source": []
  },
  {
   "cell_type": "code",
   "execution_count": null,
   "metadata": {},
   "outputs": [],
   "source": []
  }
 ],
 "metadata": {
  "ExecuteTimeLog": [
   {
    "duration": 200,
    "start_time": "2022-10-18T14:56:37.305Z"
   },
   {
    "duration": 41,
    "start_time": "2022-10-18T14:56:57.370Z"
   },
   {
    "duration": 376,
    "start_time": "2022-10-18T14:57:03.527Z"
   },
   {
    "duration": 505,
    "start_time": "2022-10-18T14:57:05.366Z"
   },
   {
    "duration": 13,
    "start_time": "2022-10-18T14:57:07.523Z"
   },
   {
    "duration": 22,
    "start_time": "2022-10-18T15:02:34.446Z"
   },
   {
    "duration": 485,
    "start_time": "2022-10-18T15:03:38.674Z"
   },
   {
    "duration": 423,
    "start_time": "2022-10-18T15:04:34.844Z"
   },
   {
    "duration": 9,
    "start_time": "2022-10-18T15:04:52.254Z"
   },
   {
    "duration": 19,
    "start_time": "2022-10-18T15:05:05.604Z"
   },
   {
    "duration": 138,
    "start_time": "2022-10-18T15:06:44.426Z"
   },
   {
    "duration": 356,
    "start_time": "2022-10-18T15:07:31.468Z"
   },
   {
    "duration": 34,
    "start_time": "2022-10-18T15:07:47.026Z"
   },
   {
    "duration": 7,
    "start_time": "2022-10-18T15:07:54.588Z"
   },
   {
    "duration": 16,
    "start_time": "2022-10-18T15:08:22.862Z"
   },
   {
    "duration": 82,
    "start_time": "2022-10-18T15:09:09.080Z"
   },
   {
    "duration": 8,
    "start_time": "2022-10-18T15:09:29.457Z"
   },
   {
    "duration": 10,
    "start_time": "2022-10-18T15:09:45.597Z"
   },
   {
    "duration": 8,
    "start_time": "2022-10-18T15:10:31.013Z"
   },
   {
    "duration": 92,
    "start_time": "2022-10-18T15:10:33.303Z"
   },
   {
    "duration": 13,
    "start_time": "2022-10-18T15:10:35.183Z"
   },
   {
    "duration": 12,
    "start_time": "2022-10-18T15:10:50.907Z"
   },
   {
    "duration": 8,
    "start_time": "2022-10-18T15:12:34.739Z"
   },
   {
    "duration": 9,
    "start_time": "2022-10-18T15:13:30.579Z"
   },
   {
    "duration": 39,
    "start_time": "2022-10-18T15:14:00.915Z"
   },
   {
    "duration": 12,
    "start_time": "2022-10-18T15:14:16.062Z"
   },
   {
    "duration": 392,
    "start_time": "2022-10-19T07:24:15.424Z"
   },
   {
    "duration": 589,
    "start_time": "2022-10-19T07:24:15.818Z"
   },
   {
    "duration": 15,
    "start_time": "2022-10-19T07:24:16.409Z"
   },
   {
    "duration": 35,
    "start_time": "2022-10-19T07:24:16.426Z"
   },
   {
    "duration": 577,
    "start_time": "2022-10-19T07:24:16.463Z"
   },
   {
    "duration": 428,
    "start_time": "2022-10-19T07:24:17.041Z"
   },
   {
    "duration": 10,
    "start_time": "2022-10-19T07:24:17.470Z"
   },
   {
    "duration": 51,
    "start_time": "2022-10-19T07:24:17.482Z"
   },
   {
    "duration": 152,
    "start_time": "2022-10-19T07:24:17.535Z"
   },
   {
    "duration": 321,
    "start_time": "2022-10-19T07:24:17.689Z"
   },
   {
    "duration": 8,
    "start_time": "2022-10-19T07:24:18.012Z"
   },
   {
    "duration": 36,
    "start_time": "2022-10-19T07:24:18.022Z"
   },
   {
    "duration": 102,
    "start_time": "2022-10-19T07:24:18.060Z"
   },
   {
    "duration": 8,
    "start_time": "2022-10-19T07:24:18.165Z"
   },
   {
    "duration": 46,
    "start_time": "2022-10-19T07:24:18.175Z"
   },
   {
    "duration": 92,
    "start_time": "2022-10-19T07:24:18.223Z"
   },
   {
    "duration": 10,
    "start_time": "2022-10-19T07:24:18.317Z"
   },
   {
    "duration": 46,
    "start_time": "2022-10-19T07:24:18.329Z"
   },
   {
    "duration": 20,
    "start_time": "2022-10-19T07:24:18.377Z"
   },
   {
    "duration": 37,
    "start_time": "2022-10-19T07:24:18.398Z"
   },
   {
    "duration": 35,
    "start_time": "2022-10-19T07:24:18.436Z"
   },
   {
    "duration": 40,
    "start_time": "2022-10-19T07:24:18.473Z"
   },
   {
    "duration": 54,
    "start_time": "2022-10-19T07:24:18.515Z"
   },
   {
    "duration": 19,
    "start_time": "2022-10-19T07:24:18.571Z"
   },
   {
    "duration": 19,
    "start_time": "2022-10-19T07:24:18.592Z"
   },
   {
    "duration": 32,
    "start_time": "2022-10-19T07:24:18.612Z"
   },
   {
    "duration": 30,
    "start_time": "2022-10-19T07:24:18.646Z"
   },
   {
    "duration": 34,
    "start_time": "2022-10-19T07:24:18.678Z"
   },
   {
    "duration": 50,
    "start_time": "2022-10-19T07:24:18.713Z"
   },
   {
    "duration": 92,
    "start_time": "2022-10-19T07:24:18.764Z"
   },
   {
    "duration": 0,
    "start_time": "2022-10-19T07:24:18.858Z"
   },
   {
    "duration": 0,
    "start_time": "2022-10-19T07:24:18.859Z"
   },
   {
    "duration": 0,
    "start_time": "2022-10-19T07:24:18.860Z"
   },
   {
    "duration": 0,
    "start_time": "2022-10-19T07:24:18.861Z"
   },
   {
    "duration": 0,
    "start_time": "2022-10-19T07:24:18.863Z"
   },
   {
    "duration": 0,
    "start_time": "2022-10-19T07:24:18.864Z"
   },
   {
    "duration": 0,
    "start_time": "2022-10-19T07:24:18.865Z"
   },
   {
    "duration": 0,
    "start_time": "2022-10-19T07:24:18.866Z"
   },
   {
    "duration": 0,
    "start_time": "2022-10-19T07:24:18.867Z"
   },
   {
    "duration": 0,
    "start_time": "2022-10-19T07:24:18.868Z"
   },
   {
    "duration": 0,
    "start_time": "2022-10-19T07:24:18.869Z"
   },
   {
    "duration": 0,
    "start_time": "2022-10-19T07:24:18.889Z"
   },
   {
    "duration": 0,
    "start_time": "2022-10-19T07:24:18.891Z"
   },
   {
    "duration": 0,
    "start_time": "2022-10-19T07:24:18.892Z"
   },
   {
    "duration": 0,
    "start_time": "2022-10-19T07:24:18.894Z"
   },
   {
    "duration": 0,
    "start_time": "2022-10-19T07:24:18.895Z"
   },
   {
    "duration": 0,
    "start_time": "2022-10-19T07:24:18.896Z"
   },
   {
    "duration": 0,
    "start_time": "2022-10-19T07:24:18.897Z"
   },
   {
    "duration": 0,
    "start_time": "2022-10-19T07:24:18.898Z"
   },
   {
    "duration": 0,
    "start_time": "2022-10-19T07:24:18.899Z"
   },
   {
    "duration": 9,
    "start_time": "2022-10-19T07:24:41.996Z"
   },
   {
    "duration": 2,
    "start_time": "2022-10-19T07:24:49.243Z"
   },
   {
    "duration": 165,
    "start_time": "2022-10-19T07:24:51.002Z"
   },
   {
    "duration": 9,
    "start_time": "2022-10-19T07:24:52.657Z"
   },
   {
    "duration": 26,
    "start_time": "2022-10-19T07:24:55.641Z"
   },
   {
    "duration": 144,
    "start_time": "2022-10-19T07:24:59.111Z"
   },
   {
    "duration": 135,
    "start_time": "2022-10-19T07:25:06.782Z"
   },
   {
    "duration": 8,
    "start_time": "2022-10-19T07:25:10.283Z"
   },
   {
    "duration": 24,
    "start_time": "2022-10-19T07:25:14.300Z"
   },
   {
    "duration": 206,
    "start_time": "2022-10-19T07:25:18.195Z"
   },
   {
    "duration": 104,
    "start_time": "2022-10-19T07:25:21.215Z"
   },
   {
    "duration": 9,
    "start_time": "2022-10-19T07:25:23.044Z"
   },
   {
    "duration": 19,
    "start_time": "2022-10-19T07:25:25.478Z"
   },
   {
    "duration": 29,
    "start_time": "2022-10-19T07:25:28.650Z"
   },
   {
    "duration": 8,
    "start_time": "2022-10-19T07:25:31.296Z"
   },
   {
    "duration": 12,
    "start_time": "2022-10-19T07:25:33.541Z"
   },
   {
    "duration": 40,
    "start_time": "2022-10-19T07:25:36.473Z"
   },
   {
    "duration": 10,
    "start_time": "2022-10-19T07:25:38.848Z"
   },
   {
    "duration": 10,
    "start_time": "2022-10-19T07:25:41.747Z"
   },
   {
    "duration": 8,
    "start_time": "2022-10-19T07:25:45.199Z"
   },
   {
    "duration": 9,
    "start_time": "2022-10-19T07:25:53.260Z"
   },
   {
    "duration": 10,
    "start_time": "2022-10-19T07:29:19.483Z"
   },
   {
    "duration": 8,
    "start_time": "2022-10-19T07:29:48.444Z"
   },
   {
    "duration": 13,
    "start_time": "2022-10-19T07:30:37.543Z"
   },
   {
    "duration": 161,
    "start_time": "2022-10-19T07:31:10.549Z"
   },
   {
    "duration": 636,
    "start_time": "2022-10-19T07:31:50.601Z"
   },
   {
    "duration": 13,
    "start_time": "2022-10-19T07:42:03.944Z"
   },
   {
    "duration": 9,
    "start_time": "2022-10-19T08:03:07.505Z"
   },
   {
    "duration": 89,
    "start_time": "2022-10-19T09:05:52.800Z"
   },
   {
    "duration": 82,
    "start_time": "2022-10-19T09:06:00.450Z"
   },
   {
    "duration": 10,
    "start_time": "2022-10-19T09:06:03.677Z"
   },
   {
    "duration": 19,
    "start_time": "2022-10-19T09:06:36.620Z"
   },
   {
    "duration": 8,
    "start_time": "2022-10-19T09:07:59.782Z"
   },
   {
    "duration": 7,
    "start_time": "2022-10-19T09:08:19.351Z"
   },
   {
    "duration": 8,
    "start_time": "2022-10-19T09:08:34.656Z"
   },
   {
    "duration": 11,
    "start_time": "2022-10-19T09:09:55.477Z"
   },
   {
    "duration": 75,
    "start_time": "2022-10-19T09:10:16.003Z"
   },
   {
    "duration": 8,
    "start_time": "2022-10-19T09:10:20.656Z"
   },
   {
    "duration": 7,
    "start_time": "2022-10-19T09:10:38.868Z"
   },
   {
    "duration": 8,
    "start_time": "2022-10-19T09:10:41.205Z"
   },
   {
    "duration": 13,
    "start_time": "2022-10-19T09:10:47.190Z"
   },
   {
    "duration": 147,
    "start_time": "2022-10-19T09:11:24.687Z"
   },
   {
    "duration": 8,
    "start_time": "2022-10-19T09:11:25.182Z"
   },
   {
    "duration": 25,
    "start_time": "2022-10-19T09:11:25.985Z"
   },
   {
    "duration": 6,
    "start_time": "2022-10-19T09:11:49.205Z"
   },
   {
    "duration": 6,
    "start_time": "2022-10-19T09:11:50.589Z"
   },
   {
    "duration": 5,
    "start_time": "2022-10-19T09:13:04.408Z"
   },
   {
    "duration": 6,
    "start_time": "2022-10-19T09:15:11.645Z"
   },
   {
    "duration": 8,
    "start_time": "2022-10-19T09:15:32.771Z"
   },
   {
    "duration": 7,
    "start_time": "2022-10-19T09:15:39.096Z"
   },
   {
    "duration": 7,
    "start_time": "2022-10-19T09:15:41.081Z"
   },
   {
    "duration": 791,
    "start_time": "2022-10-19T09:16:53.227Z"
   },
   {
    "duration": 15,
    "start_time": "2022-10-19T09:17:02.453Z"
   },
   {
    "duration": 7,
    "start_time": "2022-10-19T09:17:57.887Z"
   },
   {
    "duration": 5,
    "start_time": "2022-10-19T09:18:08.780Z"
   },
   {
    "duration": 4,
    "start_time": "2022-10-19T09:18:22.909Z"
   },
   {
    "duration": 7,
    "start_time": "2022-10-19T09:18:33.545Z"
   },
   {
    "duration": 5,
    "start_time": "2022-10-19T09:18:48.963Z"
   },
   {
    "duration": 4,
    "start_time": "2022-10-19T09:19:02.526Z"
   },
   {
    "duration": 4,
    "start_time": "2022-10-19T09:19:10.651Z"
   },
   {
    "duration": 5,
    "start_time": "2022-10-19T09:19:13.439Z"
   },
   {
    "duration": 4,
    "start_time": "2022-10-19T09:19:16.091Z"
   },
   {
    "duration": 4,
    "start_time": "2022-10-19T09:19:23.302Z"
   },
   {
    "duration": 1197,
    "start_time": "2022-10-19T09:20:31.313Z"
   },
   {
    "duration": 1246,
    "start_time": "2022-10-19T09:20:53.361Z"
   },
   {
    "duration": 305,
    "start_time": "2022-10-19T09:21:19.929Z"
   },
   {
    "duration": 559,
    "start_time": "2022-10-19T09:21:23.606Z"
   },
   {
    "duration": 277,
    "start_time": "2022-10-19T09:22:02.477Z"
   },
   {
    "duration": 22,
    "start_time": "2022-10-19T09:22:38.366Z"
   },
   {
    "duration": 47,
    "start_time": "2022-10-19T09:23:04.886Z"
   },
   {
    "duration": 19,
    "start_time": "2022-10-19T09:23:06.145Z"
   },
   {
    "duration": 5,
    "start_time": "2022-10-19T09:23:10.268Z"
   },
   {
    "duration": 11,
    "start_time": "2022-10-19T09:23:12.381Z"
   },
   {
    "duration": 9,
    "start_time": "2022-10-19T09:23:19.847Z"
   },
   {
    "duration": 1024,
    "start_time": "2022-10-19T09:23:22.759Z"
   },
   {
    "duration": 560,
    "start_time": "2022-10-19T09:23:27.102Z"
   },
   {
    "duration": 16,
    "start_time": "2022-10-19T09:23:28.828Z"
   },
   {
    "duration": 405,
    "start_time": "2022-10-19T09:23:30.630Z"
   },
   {
    "duration": 9,
    "start_time": "2022-10-19T09:24:38.116Z"
   },
   {
    "duration": 23,
    "start_time": "2022-10-19T09:26:10.931Z"
   },
   {
    "duration": 25,
    "start_time": "2022-10-19T09:26:26.186Z"
   },
   {
    "duration": 19,
    "start_time": "2022-10-19T09:26:36.883Z"
   },
   {
    "duration": 17,
    "start_time": "2022-10-19T09:27:12.796Z"
   },
   {
    "duration": 39,
    "start_time": "2022-10-19T09:27:38.138Z"
   },
   {
    "duration": 25,
    "start_time": "2022-10-19T09:27:48.933Z"
   },
   {
    "duration": 80,
    "start_time": "2022-10-19T09:28:31.525Z"
   },
   {
    "duration": 31,
    "start_time": "2022-10-19T09:28:56.566Z"
   },
   {
    "duration": 22,
    "start_time": "2022-10-19T09:29:23.004Z"
   },
   {
    "duration": 129,
    "start_time": "2022-10-19T09:29:29.473Z"
   },
   {
    "duration": 91,
    "start_time": "2022-10-19T09:29:56.438Z"
   },
   {
    "duration": 94,
    "start_time": "2022-10-19T09:30:03.670Z"
   },
   {
    "duration": 20,
    "start_time": "2022-10-19T09:31:56.575Z"
   },
   {
    "duration": 165,
    "start_time": "2022-10-19T09:32:13.524Z"
   },
   {
    "duration": 154,
    "start_time": "2022-10-19T09:33:58.327Z"
   },
   {
    "duration": 171,
    "start_time": "2022-10-19T09:37:48.139Z"
   },
   {
    "duration": 164,
    "start_time": "2022-10-19T09:37:55.597Z"
   },
   {
    "duration": 9,
    "start_time": "2022-10-19T09:38:23.561Z"
   },
   {
    "duration": 29,
    "start_time": "2022-10-19T09:39:14.337Z"
   },
   {
    "duration": 9,
    "start_time": "2022-10-19T09:39:16.563Z"
   },
   {
    "duration": 10,
    "start_time": "2022-10-19T09:41:59.826Z"
   },
   {
    "duration": 8,
    "start_time": "2022-10-19T09:43:33.950Z"
   },
   {
    "duration": 169,
    "start_time": "2022-10-19T09:43:35.844Z"
   },
   {
    "duration": 11,
    "start_time": "2022-10-19T09:43:37.430Z"
   },
   {
    "duration": 10,
    "start_time": "2022-10-19T09:44:57.539Z"
   },
   {
    "duration": 17,
    "start_time": "2022-10-19T09:45:39.830Z"
   },
   {
    "duration": 22,
    "start_time": "2022-10-19T09:45:42.380Z"
   },
   {
    "duration": 17,
    "start_time": "2022-10-19T09:45:59.171Z"
   },
   {
    "duration": 10,
    "start_time": "2022-10-19T09:46:13.150Z"
   },
   {
    "duration": 5,
    "start_time": "2022-10-19T09:46:26.741Z"
   },
   {
    "duration": 12,
    "start_time": "2022-10-19T09:46:38.995Z"
   },
   {
    "duration": 8,
    "start_time": "2022-10-19T09:48:35.532Z"
   },
   {
    "duration": 12,
    "start_time": "2022-10-19T09:48:37.253Z"
   },
   {
    "duration": 7,
    "start_time": "2022-10-19T09:49:36.760Z"
   },
   {
    "duration": 163,
    "start_time": "2022-10-19T09:49:48.871Z"
   },
   {
    "duration": 10,
    "start_time": "2022-10-19T09:49:51.095Z"
   },
   {
    "duration": 34,
    "start_time": "2022-10-19T09:49:54.648Z"
   },
   {
    "duration": 12,
    "start_time": "2022-10-19T09:49:55.073Z"
   },
   {
    "duration": 119,
    "start_time": "2022-10-19T09:49:55.547Z"
   },
   {
    "duration": 9,
    "start_time": "2022-10-19T09:49:55.766Z"
   },
   {
    "duration": 12,
    "start_time": "2022-10-19T09:49:56.236Z"
   },
   {
    "duration": 19,
    "start_time": "2022-10-19T09:49:56.507Z"
   },
   {
    "duration": 13,
    "start_time": "2022-10-19T09:49:56.753Z"
   },
   {
    "duration": 5,
    "start_time": "2022-10-19T09:49:57.562Z"
   },
   {
    "duration": 32,
    "start_time": "2022-10-19T09:49:59.569Z"
   },
   {
    "duration": 11,
    "start_time": "2022-10-19T09:50:26.990Z"
   },
   {
    "duration": 24,
    "start_time": "2022-10-19T09:50:54.052Z"
   },
   {
    "duration": 20,
    "start_time": "2022-10-19T09:53:51.147Z"
   },
   {
    "duration": 15,
    "start_time": "2022-10-19T09:54:08.431Z"
   },
   {
    "duration": 15,
    "start_time": "2022-10-19T09:54:20.607Z"
   },
   {
    "duration": 11,
    "start_time": "2022-10-19T09:56:47.359Z"
   },
   {
    "duration": 20,
    "start_time": "2022-10-19T09:57:15.580Z"
   },
   {
    "duration": 28,
    "start_time": "2022-10-19T10:01:36.338Z"
   },
   {
    "duration": 5,
    "start_time": "2022-10-19T10:02:19.982Z"
   },
   {
    "duration": 4,
    "start_time": "2022-10-19T10:02:26.952Z"
   },
   {
    "duration": 28,
    "start_time": "2022-10-19T10:02:41.008Z"
   },
   {
    "duration": 10,
    "start_time": "2022-10-19T10:02:52.243Z"
   },
   {
    "duration": 36,
    "start_time": "2022-10-19T10:04:14.335Z"
   },
   {
    "duration": 12,
    "start_time": "2022-10-19T10:04:41.671Z"
   },
   {
    "duration": 1231,
    "start_time": "2022-10-19T10:06:10.235Z"
   },
   {
    "duration": 1178,
    "start_time": "2022-10-19T10:06:25.362Z"
   },
   {
    "duration": 172,
    "start_time": "2022-10-19T10:08:04.703Z"
   },
   {
    "duration": 14,
    "start_time": "2022-10-19T10:08:05.887Z"
   },
   {
    "duration": 42,
    "start_time": "2022-10-19T10:08:06.790Z"
   },
   {
    "duration": 12,
    "start_time": "2022-10-19T10:08:07.201Z"
   },
   {
    "duration": 75,
    "start_time": "2022-10-19T10:08:33.263Z"
   },
   {
    "duration": 209,
    "start_time": "2022-10-19T10:08:45.068Z"
   },
   {
    "duration": 10,
    "start_time": "2022-10-19T10:08:47.290Z"
   },
   {
    "duration": 54,
    "start_time": "2022-10-19T10:08:51.858Z"
   },
   {
    "duration": 10,
    "start_time": "2022-10-19T10:08:52.235Z"
   },
   {
    "duration": 148,
    "start_time": "2022-10-19T10:08:52.964Z"
   },
   {
    "duration": 11,
    "start_time": "2022-10-19T10:08:53.236Z"
   },
   {
    "duration": 10,
    "start_time": "2022-10-19T10:08:53.750Z"
   },
   {
    "duration": 17,
    "start_time": "2022-10-19T10:08:54.028Z"
   },
   {
    "duration": 10,
    "start_time": "2022-10-19T10:08:54.350Z"
   },
   {
    "duration": 6,
    "start_time": "2022-10-19T10:08:56.735Z"
   },
   {
    "duration": 11,
    "start_time": "2022-10-19T10:08:57.860Z"
   },
   {
    "duration": 4,
    "start_time": "2022-10-19T10:08:58.480Z"
   },
   {
    "duration": 46,
    "start_time": "2022-10-19T10:08:59.358Z"
   },
   {
    "duration": 15,
    "start_time": "2022-10-19T10:09:15.046Z"
   },
   {
    "duration": 4,
    "start_time": "2022-10-19T10:09:16.045Z"
   },
   {
    "duration": 34,
    "start_time": "2022-10-19T10:09:17.144Z"
   },
   {
    "duration": 9,
    "start_time": "2022-10-19T10:09:20.170Z"
   },
   {
    "duration": 1176,
    "start_time": "2022-10-19T10:09:21.601Z"
   },
   {
    "duration": 5,
    "start_time": "2022-10-19T10:10:06.208Z"
   },
   {
    "duration": 6,
    "start_time": "2022-10-19T10:10:14.102Z"
   },
   {
    "duration": 13,
    "start_time": "2022-10-19T10:11:42.645Z"
   },
   {
    "duration": 13,
    "start_time": "2022-10-19T10:12:07.939Z"
   },
   {
    "duration": 8,
    "start_time": "2022-10-19T10:12:12.959Z"
   },
   {
    "duration": 4,
    "start_time": "2022-10-19T10:12:41.309Z"
   },
   {
    "duration": 3,
    "start_time": "2022-10-19T10:13:19.474Z"
   },
   {
    "duration": 10,
    "start_time": "2022-10-19T10:13:34.833Z"
   },
   {
    "duration": 17,
    "start_time": "2022-10-19T10:13:57.167Z"
   },
   {
    "duration": 1586,
    "start_time": "2022-10-19T10:14:23.906Z"
   },
   {
    "duration": 1137,
    "start_time": "2022-10-19T10:14:25.649Z"
   },
   {
    "duration": 13,
    "start_time": "2022-10-19T10:15:10.539Z"
   },
   {
    "duration": 7,
    "start_time": "2022-10-19T10:15:20.217Z"
   },
   {
    "duration": 7,
    "start_time": "2022-10-19T10:15:29.943Z"
   },
   {
    "duration": 5,
    "start_time": "2022-10-19T10:15:39.254Z"
   },
   {
    "duration": 14,
    "start_time": "2022-10-19T10:15:51.285Z"
   },
   {
    "duration": 14,
    "start_time": "2022-10-19T10:16:25.347Z"
   },
   {
    "duration": 67,
    "start_time": "2022-10-19T10:16:30.546Z"
   },
   {
    "duration": 1135,
    "start_time": "2022-10-19T10:16:42.546Z"
   },
   {
    "duration": 292,
    "start_time": "2022-10-19T10:16:43.851Z"
   },
   {
    "duration": 286,
    "start_time": "2022-10-19T10:16:53.170Z"
   },
   {
    "duration": 1361,
    "start_time": "2022-10-19T10:16:57.795Z"
   },
   {
    "duration": 284,
    "start_time": "2022-10-19T10:17:19.610Z"
   },
   {
    "duration": 325,
    "start_time": "2022-10-19T10:17:31.199Z"
   },
   {
    "duration": 237,
    "start_time": "2022-10-19T10:17:44.585Z"
   },
   {
    "duration": 405,
    "start_time": "2022-10-19T10:17:51.857Z"
   },
   {
    "duration": 233,
    "start_time": "2022-10-19T10:17:56.172Z"
   },
   {
    "duration": 6,
    "start_time": "2022-10-19T10:24:32.659Z"
   },
   {
    "duration": 1153,
    "start_time": "2022-10-19T10:24:38.854Z"
   },
   {
    "duration": 1143,
    "start_time": "2022-10-19T10:24:51.189Z"
   },
   {
    "duration": 63,
    "start_time": "2022-10-19T10:24:59.788Z"
   },
   {
    "duration": 19,
    "start_time": "2022-10-19T10:25:07.355Z"
   },
   {
    "duration": 41,
    "start_time": "2022-10-19T10:27:34.335Z"
   },
   {
    "duration": 5,
    "start_time": "2022-10-19T10:27:52.729Z"
   },
   {
    "duration": 6,
    "start_time": "2022-10-19T10:28:07.230Z"
   },
   {
    "duration": 13,
    "start_time": "2022-10-19T10:28:27.870Z"
   },
   {
    "duration": 15,
    "start_time": "2022-10-19T10:28:41.618Z"
   },
   {
    "duration": 12,
    "start_time": "2022-10-19T10:29:03.510Z"
   },
   {
    "duration": 2,
    "start_time": "2022-10-19T10:29:29.549Z"
   },
   {
    "duration": 14,
    "start_time": "2022-10-19T10:29:34.603Z"
   },
   {
    "duration": 10,
    "start_time": "2022-10-19T10:30:05.748Z"
   },
   {
    "duration": 12,
    "start_time": "2022-10-19T10:30:20.890Z"
   },
   {
    "duration": 10,
    "start_time": "2022-10-19T10:31:10.526Z"
   },
   {
    "duration": 14,
    "start_time": "2022-10-19T10:32:12.389Z"
   },
   {
    "duration": 54,
    "start_time": "2022-10-19T10:36:51.112Z"
   },
   {
    "duration": 40,
    "start_time": "2022-10-19T10:37:07.732Z"
   },
   {
    "duration": 14,
    "start_time": "2022-10-19T10:39:02.861Z"
   },
   {
    "duration": 8,
    "start_time": "2022-10-19T10:39:12.510Z"
   },
   {
    "duration": 15,
    "start_time": "2022-10-19T10:39:46.484Z"
   },
   {
    "duration": 8,
    "start_time": "2022-10-19T10:39:55.526Z"
   },
   {
    "duration": 10,
    "start_time": "2022-10-19T10:40:31.431Z"
   },
   {
    "duration": 13,
    "start_time": "2022-10-19T10:44:29.076Z"
   },
   {
    "duration": 5,
    "start_time": "2022-10-19T10:44:44.294Z"
   },
   {
    "duration": 5,
    "start_time": "2022-10-19T10:44:48.441Z"
   },
   {
    "duration": 11,
    "start_time": "2022-10-19T10:45:06.427Z"
   },
   {
    "duration": 66,
    "start_time": "2022-10-19T11:03:18.122Z"
   },
   {
    "duration": 49,
    "start_time": "2022-10-19T11:03:23.700Z"
   },
   {
    "duration": 9,
    "start_time": "2022-10-19T11:03:26.164Z"
   },
   {
    "duration": 41,
    "start_time": "2022-10-19T11:04:02.488Z"
   },
   {
    "duration": 40,
    "start_time": "2022-10-19T11:04:39.709Z"
   },
   {
    "duration": 9,
    "start_time": "2022-10-19T11:04:42.085Z"
   },
   {
    "duration": 24,
    "start_time": "2022-10-19T11:05:02.361Z"
   },
   {
    "duration": 8,
    "start_time": "2022-10-19T11:05:04.458Z"
   },
   {
    "duration": 25,
    "start_time": "2022-10-19T15:57:54.408Z"
   },
   {
    "duration": 8,
    "start_time": "2022-10-19T15:57:57.683Z"
   },
   {
    "duration": 6,
    "start_time": "2022-10-19T16:04:04.168Z"
   },
   {
    "duration": 42,
    "start_time": "2022-10-19T16:04:15.874Z"
   },
   {
    "duration": 20,
    "start_time": "2022-10-19T16:04:18.230Z"
   },
   {
    "duration": 72,
    "start_time": "2022-10-19T16:04:53.264Z"
   },
   {
    "duration": 2,
    "start_time": "2022-10-19T16:04:59.908Z"
   },
   {
    "duration": 601,
    "start_time": "2022-10-19T16:05:00.843Z"
   },
   {
    "duration": 12,
    "start_time": "2022-10-19T16:05:01.447Z"
   },
   {
    "duration": 30,
    "start_time": "2022-10-19T16:05:02.066Z"
   },
   {
    "duration": 148,
    "start_time": "2022-10-19T16:05:02.759Z"
   },
   {
    "duration": 450,
    "start_time": "2022-10-19T16:05:04.539Z"
   },
   {
    "duration": 11,
    "start_time": "2022-10-19T16:05:05.619Z"
   },
   {
    "duration": 24,
    "start_time": "2022-10-19T16:05:06.935Z"
   },
   {
    "duration": 175,
    "start_time": "2022-10-19T16:05:08.075Z"
   },
   {
    "duration": 327,
    "start_time": "2022-10-19T16:05:09.520Z"
   },
   {
    "duration": 8,
    "start_time": "2022-10-19T16:05:10.673Z"
   },
   {
    "duration": 18,
    "start_time": "2022-10-19T16:05:12.052Z"
   },
   {
    "duration": 27,
    "start_time": "2022-10-19T16:05:13.539Z"
   },
   {
    "duration": 9,
    "start_time": "2022-10-19T16:05:14.521Z"
   },
   {
    "duration": 10,
    "start_time": "2022-10-19T16:05:15.808Z"
   },
   {
    "duration": 39,
    "start_time": "2022-10-19T16:05:16.907Z"
   },
   {
    "duration": 10,
    "start_time": "2022-10-19T16:05:18.138Z"
   },
   {
    "duration": 11,
    "start_time": "2022-10-19T16:05:21.121Z"
   },
   {
    "duration": 71,
    "start_time": "2022-10-19T16:05:23.164Z"
   },
   {
    "duration": 16,
    "start_time": "2022-10-19T16:05:23.975Z"
   },
   {
    "duration": 98,
    "start_time": "2022-10-19T16:05:25.722Z"
   },
   {
    "duration": 6,
    "start_time": "2022-10-19T16:05:32.689Z"
   },
   {
    "duration": 10,
    "start_time": "2022-10-19T16:05:38.349Z"
   },
   {
    "duration": 8,
    "start_time": "2022-10-19T16:05:41.657Z"
   },
   {
    "duration": 1247,
    "start_time": "2022-10-19T16:05:49.261Z"
   },
   {
    "duration": 9,
    "start_time": "2022-10-19T16:06:18.716Z"
   },
   {
    "duration": 328,
    "start_time": "2022-10-19T16:06:28.010Z"
   },
   {
    "duration": 597,
    "start_time": "2022-10-19T16:06:38.337Z"
   },
   {
    "duration": 18,
    "start_time": "2022-10-19T16:06:40.167Z"
   },
   {
    "duration": 670,
    "start_time": "2022-10-19T16:06:47.058Z"
   },
   {
    "duration": 8,
    "start_time": "2022-10-19T16:07:33.435Z"
   },
   {
    "duration": 37,
    "start_time": "2022-10-19T16:07:40.796Z"
   },
   {
    "duration": 132,
    "start_time": "2022-10-19T16:07:46.321Z"
   },
   {
    "duration": 11,
    "start_time": "2022-10-19T16:07:48.289Z"
   },
   {
    "duration": 10,
    "start_time": "2022-10-19T16:07:51.762Z"
   },
   {
    "duration": 17,
    "start_time": "2022-10-19T16:07:54.255Z"
   },
   {
    "duration": 10,
    "start_time": "2022-10-19T16:07:56.200Z"
   },
   {
    "duration": 5,
    "start_time": "2022-10-19T16:07:59.541Z"
   },
   {
    "duration": 13,
    "start_time": "2022-10-19T16:08:01.984Z"
   },
   {
    "duration": 4,
    "start_time": "2022-10-19T16:08:07.357Z"
   },
   {
    "duration": 36,
    "start_time": "2022-10-19T16:08:08.205Z"
   },
   {
    "duration": 10,
    "start_time": "2022-10-19T16:08:15.079Z"
   },
   {
    "duration": 8,
    "start_time": "2022-10-19T16:08:17.441Z"
   },
   {
    "duration": 3,
    "start_time": "2022-10-19T16:08:23.295Z"
   },
   {
    "duration": 7,
    "start_time": "2022-10-19T16:08:24.452Z"
   },
   {
    "duration": 8,
    "start_time": "2022-10-19T16:08:29.931Z"
   },
   {
    "duration": 4,
    "start_time": "2022-10-19T16:08:34.653Z"
   },
   {
    "duration": 6,
    "start_time": "2022-10-19T16:08:51.441Z"
   },
   {
    "duration": 4,
    "start_time": "2022-10-19T16:08:53.424Z"
   },
   {
    "duration": 52,
    "start_time": "2022-10-19T16:08:55.825Z"
   },
   {
    "duration": 305,
    "start_time": "2022-10-19T16:08:58.228Z"
   },
   {
    "duration": 239,
    "start_time": "2022-10-19T16:09:01.016Z"
   },
   {
    "duration": 27,
    "start_time": "2022-10-19T18:56:13.482Z"
   },
   {
    "duration": 8,
    "start_time": "2022-10-19T18:56:15.897Z"
   },
   {
    "duration": 87,
    "start_time": "2022-10-19T18:57:04.701Z"
   },
   {
    "duration": 40,
    "start_time": "2022-10-19T18:57:29.083Z"
   },
   {
    "duration": 13,
    "start_time": "2022-10-19T18:57:31.364Z"
   },
   {
    "duration": 46,
    "start_time": "2022-10-19T18:57:59.156Z"
   },
   {
    "duration": 9,
    "start_time": "2022-10-19T18:58:03.794Z"
   },
   {
    "duration": 11,
    "start_time": "2022-10-19T18:58:50.169Z"
   },
   {
    "duration": 135,
    "start_time": "2022-10-19T18:58:59.311Z"
   },
   {
    "duration": 20,
    "start_time": "2022-10-19T18:59:45.330Z"
   },
   {
    "duration": 12,
    "start_time": "2022-10-19T18:59:46.641Z"
   },
   {
    "duration": 18,
    "start_time": "2022-10-19T19:00:20.170Z"
   },
   {
    "duration": 13,
    "start_time": "2022-10-19T19:00:32.352Z"
   },
   {
    "duration": 17,
    "start_time": "2022-10-19T19:01:19.352Z"
   },
   {
    "duration": 17,
    "start_time": "2022-10-19T19:01:21.435Z"
   },
   {
    "duration": 10,
    "start_time": "2022-10-19T19:01:51.827Z"
   },
   {
    "duration": 18,
    "start_time": "2022-10-19T19:07:54.804Z"
   },
   {
    "duration": 441,
    "start_time": "2022-10-20T05:43:31.322Z"
   },
   {
    "duration": 214,
    "start_time": "2022-10-20T05:43:32.816Z"
   },
   {
    "duration": 18,
    "start_time": "2022-10-20T05:43:33.686Z"
   },
   {
    "duration": 24,
    "start_time": "2022-10-20T05:43:35.732Z"
   },
   {
    "duration": 159,
    "start_time": "2022-10-20T05:43:45.616Z"
   },
   {
    "duration": 10,
    "start_time": "2022-10-20T05:43:46.625Z"
   },
   {
    "duration": 33,
    "start_time": "2022-10-20T05:43:47.523Z"
   },
   {
    "duration": 534,
    "start_time": "2022-10-20T05:43:48.516Z"
   },
   {
    "duration": 300,
    "start_time": "2022-10-20T05:43:50.215Z"
   },
   {
    "duration": 8,
    "start_time": "2022-10-20T05:43:51.358Z"
   },
   {
    "duration": 30,
    "start_time": "2022-10-20T05:43:52.289Z"
   },
   {
    "duration": 145,
    "start_time": "2022-10-20T05:43:53.552Z"
   },
   {
    "duration": 157,
    "start_time": "2022-10-20T05:43:54.672Z"
   },
   {
    "duration": 10,
    "start_time": "2022-10-20T05:43:55.711Z"
   },
   {
    "duration": 23,
    "start_time": "2022-10-20T05:43:56.875Z"
   },
   {
    "duration": 34,
    "start_time": "2022-10-20T05:43:58.033Z"
   },
   {
    "duration": 10,
    "start_time": "2022-10-20T05:43:59.846Z"
   },
   {
    "duration": 14,
    "start_time": "2022-10-20T05:44:02.295Z"
   },
   {
    "duration": 42,
    "start_time": "2022-10-20T05:44:03.353Z"
   },
   {
    "duration": 9,
    "start_time": "2022-10-20T05:44:04.352Z"
   },
   {
    "duration": 25,
    "start_time": "2022-10-20T05:44:05.292Z"
   },
   {
    "duration": 67,
    "start_time": "2022-10-20T05:44:06.816Z"
   },
   {
    "duration": 14,
    "start_time": "2022-10-20T05:44:08.824Z"
   },
   {
    "duration": 5,
    "start_time": "2022-10-20T05:44:10.083Z"
   },
   {
    "duration": 11,
    "start_time": "2022-10-20T05:44:12.101Z"
   },
   {
    "duration": 8,
    "start_time": "2022-10-20T05:44:13.056Z"
   },
   {
    "duration": 653,
    "start_time": "2022-10-20T05:44:13.597Z"
   },
   {
    "duration": 8,
    "start_time": "2022-10-20T05:44:14.252Z"
   },
   {
    "duration": 420,
    "start_time": "2022-10-20T05:44:16.526Z"
   },
   {
    "duration": 419,
    "start_time": "2022-10-20T05:44:17.629Z"
   },
   {
    "duration": 22,
    "start_time": "2022-10-20T05:44:18.431Z"
   },
   {
    "duration": 11,
    "start_time": "2022-10-20T05:44:19.005Z"
   },
   {
    "duration": 46,
    "start_time": "2022-10-20T05:44:21.214Z"
   },
   {
    "duration": 7,
    "start_time": "2022-10-20T05:44:21.715Z"
   },
   {
    "duration": 17,
    "start_time": "2022-10-20T05:44:23.487Z"
   },
   {
    "duration": 17,
    "start_time": "2022-10-20T05:44:24.081Z"
   },
   {
    "duration": 14,
    "start_time": "2022-10-20T05:44:26.565Z"
   },
   {
    "duration": 9,
    "start_time": "2022-10-20T05:44:27.191Z"
   },
   {
    "duration": 385,
    "start_time": "2022-10-22T14:25:36.561Z"
   },
   {
    "duration": 570,
    "start_time": "2022-10-22T14:25:37.940Z"
   },
   {
    "duration": 24,
    "start_time": "2022-10-22T14:25:38.911Z"
   },
   {
    "duration": 38,
    "start_time": "2022-10-22T14:25:39.918Z"
   },
   {
    "duration": 615,
    "start_time": "2022-10-22T14:25:40.804Z"
   },
   {
    "duration": 470,
    "start_time": "2022-10-22T14:25:43.528Z"
   },
   {
    "duration": 20,
    "start_time": "2022-10-22T14:25:45.016Z"
   },
   {
    "duration": 23,
    "start_time": "2022-10-22T14:25:46.592Z"
   },
   {
    "duration": 161,
    "start_time": "2022-10-22T14:25:47.791Z"
   },
   {
    "duration": 357,
    "start_time": "2022-10-22T14:25:50.435Z"
   },
   {
    "duration": 7,
    "start_time": "2022-10-22T14:25:51.676Z"
   },
   {
    "duration": 21,
    "start_time": "2022-10-22T14:25:53.107Z"
   },
   {
    "duration": 83,
    "start_time": "2022-10-22T14:25:54.537Z"
   },
   {
    "duration": 8,
    "start_time": "2022-10-22T14:25:55.400Z"
   },
   {
    "duration": 11,
    "start_time": "2022-10-22T14:25:56.744Z"
   },
   {
    "duration": 95,
    "start_time": "2022-10-22T14:25:57.951Z"
   },
   {
    "duration": 16,
    "start_time": "2022-10-22T14:25:59.232Z"
   },
   {
    "duration": 14,
    "start_time": "2022-10-22T14:26:00.340Z"
   },
   {
    "duration": 95,
    "start_time": "2022-10-22T14:26:02.194Z"
   },
   {
    "duration": 19,
    "start_time": "2022-10-22T14:26:02.768Z"
   },
   {
    "duration": 6,
    "start_time": "2022-10-22T14:26:03.775Z"
   },
   {
    "duration": 21,
    "start_time": "2022-10-22T14:26:04.718Z"
   },
   {
    "duration": 8,
    "start_time": "2022-10-22T14:26:05.604Z"
   },
   {
    "duration": 710,
    "start_time": "2022-10-22T14:26:06.143Z"
   },
   {
    "duration": 8,
    "start_time": "2022-10-22T14:26:07.174Z"
   },
   {
    "duration": 446,
    "start_time": "2022-10-22T14:26:08.037Z"
   },
   {
    "duration": 480,
    "start_time": "2022-10-22T14:26:08.899Z"
   },
   {
    "duration": 28,
    "start_time": "2022-10-22T14:26:09.878Z"
   },
   {
    "duration": 9,
    "start_time": "2022-10-22T14:26:10.371Z"
   },
   {
    "duration": 50,
    "start_time": "2022-10-22T14:26:11.418Z"
   },
   {
    "duration": 10,
    "start_time": "2022-10-22T14:26:11.922Z"
   },
   {
    "duration": 20,
    "start_time": "2022-10-22T14:26:12.915Z"
   },
   {
    "duration": 9,
    "start_time": "2022-10-22T14:26:13.481Z"
   },
   {
    "duration": 15,
    "start_time": "2022-10-22T14:26:14.552Z"
   },
   {
    "duration": 11,
    "start_time": "2022-10-22T14:26:15.113Z"
   },
   {
    "duration": 4,
    "start_time": "2022-10-22T14:26:16.918Z"
   },
   {
    "duration": 11,
    "start_time": "2022-10-22T14:26:17.873Z"
   },
   {
    "duration": 4,
    "start_time": "2022-10-22T14:26:18.368Z"
   },
   {
    "duration": 40,
    "start_time": "2022-10-22T14:26:18.896Z"
   },
   {
    "duration": 1226,
    "start_time": "2022-10-22T14:26:20.368Z"
   },
   {
    "duration": 0,
    "start_time": "2022-10-22T14:26:21.596Z"
   },
   {
    "duration": 4,
    "start_time": "2022-10-22T14:26:21.817Z"
   },
   {
    "duration": 9,
    "start_time": "2022-10-22T14:26:22.231Z"
   },
   {
    "duration": 1212,
    "start_time": "2022-10-22T14:26:23.096Z"
   },
   {
    "duration": 0,
    "start_time": "2022-10-22T14:26:24.309Z"
   },
   {
    "duration": 1248,
    "start_time": "2022-10-22T14:26:24.636Z"
   },
   {
    "duration": 1474,
    "start_time": "2022-10-22T14:26:26.314Z"
   },
   {
    "duration": 5,
    "start_time": "2022-10-22T14:33:17.438Z"
   },
   {
    "duration": 11,
    "start_time": "2022-10-22T14:33:20.300Z"
   },
   {
    "duration": 4,
    "start_time": "2022-10-22T14:33:23.078Z"
   },
   {
    "duration": 1185,
    "start_time": "2022-10-22T14:33:27.751Z"
   },
   {
    "duration": 1777,
    "start_time": "2022-10-22T14:38:38.792Z"
   },
   {
    "duration": 1363,
    "start_time": "2022-10-22T14:43:50.355Z"
   },
   {
    "duration": 1171,
    "start_time": "2022-10-22T14:44:24.176Z"
   },
   {
    "duration": 1159,
    "start_time": "2022-10-22T14:44:41.853Z"
   },
   {
    "duration": 38,
    "start_time": "2022-10-22T14:45:06.017Z"
   },
   {
    "duration": 1742,
    "start_time": "2022-10-22T14:45:09.479Z"
   },
   {
    "duration": 4,
    "start_time": "2022-10-22T14:48:57.449Z"
   },
   {
    "duration": 34,
    "start_time": "2022-10-22T14:49:06.958Z"
   },
   {
    "duration": 1237,
    "start_time": "2022-10-22T14:49:10.936Z"
   },
   {
    "duration": 12,
    "start_time": "2022-10-22T14:49:25.283Z"
   },
   {
    "duration": 19,
    "start_time": "2022-10-22T14:54:56.015Z"
   },
   {
    "duration": 32,
    "start_time": "2022-10-22T15:18:12.189Z"
   },
   {
    "duration": 17,
    "start_time": "2022-10-22T15:18:45.895Z"
   },
   {
    "duration": 20,
    "start_time": "2022-10-22T15:19:03.146Z"
   },
   {
    "duration": 13,
    "start_time": "2022-10-22T15:19:23.104Z"
   },
   {
    "duration": 23,
    "start_time": "2022-10-22T15:19:30.032Z"
   },
   {
    "duration": 7,
    "start_time": "2022-10-22T15:19:32.269Z"
   },
   {
    "duration": 3,
    "start_time": "2022-10-22T15:19:56.945Z"
   },
   {
    "duration": 6,
    "start_time": "2022-10-22T15:20:04.289Z"
   },
   {
    "duration": 3689,
    "start_time": "2022-10-22T15:20:08.199Z"
   },
   {
    "duration": 1450,
    "start_time": "2022-10-22T15:20:33.016Z"
   },
   {
    "duration": 8,
    "start_time": "2022-10-22T15:20:58.641Z"
   },
   {
    "duration": 7,
    "start_time": "2022-10-22T15:21:05.293Z"
   },
   {
    "duration": 4,
    "start_time": "2022-10-22T15:21:11.184Z"
   },
   {
    "duration": 6,
    "start_time": "2022-10-22T15:21:16.115Z"
   },
   {
    "duration": 5,
    "start_time": "2022-10-22T15:21:36.372Z"
   },
   {
    "duration": 16,
    "start_time": "2022-10-22T15:22:29.153Z"
   },
   {
    "duration": 25,
    "start_time": "2022-10-22T15:24:45.744Z"
   },
   {
    "duration": 17,
    "start_time": "2022-10-22T15:25:06.406Z"
   },
   {
    "duration": 35,
    "start_time": "2022-10-22T15:35:18.581Z"
   },
   {
    "duration": 16,
    "start_time": "2022-10-22T16:04:43.205Z"
   },
   {
    "duration": 12,
    "start_time": "2022-10-22T16:04:45.335Z"
   },
   {
    "duration": 8,
    "start_time": "2022-10-22T16:06:30.597Z"
   },
   {
    "duration": 3,
    "start_time": "2022-10-22T16:11:06.999Z"
   },
   {
    "duration": 183,
    "start_time": "2022-10-22T16:11:07.004Z"
   },
   {
    "duration": 8,
    "start_time": "2022-10-22T16:11:07.188Z"
   },
   {
    "duration": 39,
    "start_time": "2022-10-22T16:11:07.198Z"
   },
   {
    "duration": 207,
    "start_time": "2022-10-22T16:11:07.240Z"
   },
   {
    "duration": 126,
    "start_time": "2022-10-22T16:11:07.449Z"
   },
   {
    "duration": 9,
    "start_time": "2022-10-22T16:11:07.576Z"
   },
   {
    "duration": 20,
    "start_time": "2022-10-22T16:11:07.587Z"
   },
   {
    "duration": 158,
    "start_time": "2022-10-22T16:11:07.609Z"
   },
   {
    "duration": 87,
    "start_time": "2022-10-22T16:11:07.769Z"
   },
   {
    "duration": 7,
    "start_time": "2022-10-22T16:11:07.857Z"
   },
   {
    "duration": 20,
    "start_time": "2022-10-22T16:11:07.865Z"
   },
   {
    "duration": 15,
    "start_time": "2022-10-22T16:11:07.887Z"
   },
   {
    "duration": 7,
    "start_time": "2022-10-22T16:11:07.904Z"
   },
   {
    "duration": 25,
    "start_time": "2022-10-22T16:11:07.912Z"
   },
   {
    "duration": 28,
    "start_time": "2022-10-22T16:11:07.939Z"
   },
   {
    "duration": 9,
    "start_time": "2022-10-22T16:11:07.969Z"
   },
   {
    "duration": 10,
    "start_time": "2022-10-22T16:11:07.980Z"
   },
   {
    "duration": 74,
    "start_time": "2022-10-22T16:11:07.992Z"
   },
   {
    "duration": 16,
    "start_time": "2022-10-22T16:11:08.067Z"
   },
   {
    "duration": 4,
    "start_time": "2022-10-22T16:11:08.084Z"
   },
   {
    "duration": 7,
    "start_time": "2022-10-22T16:11:08.090Z"
   },
   {
    "duration": 10,
    "start_time": "2022-10-22T16:11:08.098Z"
   },
   {
    "duration": 656,
    "start_time": "2022-10-22T16:11:08.109Z"
   },
   {
    "duration": 8,
    "start_time": "2022-10-22T16:11:08.766Z"
   },
   {
    "duration": 377,
    "start_time": "2022-10-22T16:11:08.776Z"
   },
   {
    "duration": 500,
    "start_time": "2022-10-22T16:11:09.155Z"
   },
   {
    "duration": 17,
    "start_time": "2022-10-22T16:11:09.656Z"
   },
   {
    "duration": 7,
    "start_time": "2022-10-22T16:11:09.675Z"
   },
   {
    "duration": 55,
    "start_time": "2022-10-22T16:11:09.684Z"
   },
   {
    "duration": 8,
    "start_time": "2022-10-22T16:11:09.741Z"
   },
   {
    "duration": 15,
    "start_time": "2022-10-22T16:11:09.750Z"
   },
   {
    "duration": 9,
    "start_time": "2022-10-22T16:11:09.766Z"
   },
   {
    "duration": 13,
    "start_time": "2022-10-22T16:11:09.777Z"
   },
   {
    "duration": 45,
    "start_time": "2022-10-22T16:11:09.792Z"
   },
   {
    "duration": 4,
    "start_time": "2022-10-22T16:11:09.839Z"
   },
   {
    "duration": 10,
    "start_time": "2022-10-22T16:11:09.847Z"
   },
   {
    "duration": 5,
    "start_time": "2022-10-22T16:11:09.859Z"
   },
   {
    "duration": 32,
    "start_time": "2022-10-22T16:11:09.865Z"
   },
   {
    "duration": 1340,
    "start_time": "2022-10-22T16:11:09.899Z"
   },
   {
    "duration": 0,
    "start_time": "2022-10-22T16:11:11.240Z"
   },
   {
    "duration": 0,
    "start_time": "2022-10-22T16:11:11.242Z"
   },
   {
    "duration": 0,
    "start_time": "2022-10-22T16:11:11.243Z"
   },
   {
    "duration": 0,
    "start_time": "2022-10-22T16:11:11.245Z"
   },
   {
    "duration": 0,
    "start_time": "2022-10-22T16:11:11.246Z"
   },
   {
    "duration": 0,
    "start_time": "2022-10-22T16:11:11.246Z"
   },
   {
    "duration": 0,
    "start_time": "2022-10-22T16:11:11.248Z"
   },
   {
    "duration": 0,
    "start_time": "2022-10-22T16:11:11.249Z"
   },
   {
    "duration": 0,
    "start_time": "2022-10-22T16:11:11.250Z"
   },
   {
    "duration": 0,
    "start_time": "2022-10-22T16:11:11.251Z"
   },
   {
    "duration": 0,
    "start_time": "2022-10-22T16:11:11.252Z"
   },
   {
    "duration": 0,
    "start_time": "2022-10-22T16:11:11.253Z"
   },
   {
    "duration": 0,
    "start_time": "2022-10-22T16:11:11.255Z"
   },
   {
    "duration": 0,
    "start_time": "2022-10-22T16:11:11.256Z"
   },
   {
    "duration": 0,
    "start_time": "2022-10-22T16:11:11.257Z"
   },
   {
    "duration": 0,
    "start_time": "2022-10-22T16:11:11.259Z"
   },
   {
    "duration": 0,
    "start_time": "2022-10-22T16:11:11.260Z"
   },
   {
    "duration": 0,
    "start_time": "2022-10-22T16:11:11.261Z"
   },
   {
    "duration": 0,
    "start_time": "2022-10-22T16:11:11.262Z"
   },
   {
    "duration": 0,
    "start_time": "2022-10-22T16:11:11.263Z"
   },
   {
    "duration": 0,
    "start_time": "2022-10-22T16:11:11.264Z"
   },
   {
    "duration": 3,
    "start_time": "2022-10-22T16:24:53.693Z"
   },
   {
    "duration": 197,
    "start_time": "2022-10-22T16:24:56.267Z"
   },
   {
    "duration": 9,
    "start_time": "2022-10-22T16:24:58.035Z"
   },
   {
    "duration": 37,
    "start_time": "2022-10-22T16:25:00.137Z"
   },
   {
    "duration": 181,
    "start_time": "2022-10-22T16:25:02.756Z"
   },
   {
    "duration": 146,
    "start_time": "2022-10-22T16:25:05.922Z"
   },
   {
    "duration": 10,
    "start_time": "2022-10-22T16:25:07.925Z"
   },
   {
    "duration": 20,
    "start_time": "2022-10-22T16:25:10.493Z"
   },
   {
    "duration": 148,
    "start_time": "2022-10-22T16:25:13.160Z"
   },
   {
    "duration": 103,
    "start_time": "2022-10-22T16:25:15.940Z"
   },
   {
    "duration": 8,
    "start_time": "2022-10-22T16:25:17.584Z"
   },
   {
    "duration": 17,
    "start_time": "2022-10-22T16:25:20.101Z"
   },
   {
    "duration": 31,
    "start_time": "2022-10-22T16:25:22.426Z"
   },
   {
    "duration": 8,
    "start_time": "2022-10-22T16:26:10.710Z"
   },
   {
    "duration": 10,
    "start_time": "2022-10-22T16:26:12.257Z"
   },
   {
    "duration": 47,
    "start_time": "2022-10-22T16:26:16.413Z"
   },
   {
    "duration": 10,
    "start_time": "2022-10-22T16:26:18.353Z"
   },
   {
    "duration": 18,
    "start_time": "2022-10-22T16:26:23.013Z"
   },
   {
    "duration": 71,
    "start_time": "2022-10-22T16:26:26.457Z"
   },
   {
    "duration": 21,
    "start_time": "2022-10-22T16:26:28.636Z"
   },
   {
    "duration": 4,
    "start_time": "2022-10-22T16:26:32.291Z"
   },
   {
    "duration": 8,
    "start_time": "2022-10-22T16:26:42.495Z"
   },
   {
    "duration": 7,
    "start_time": "2022-10-22T16:26:48.107Z"
   },
   {
    "duration": 713,
    "start_time": "2022-10-22T16:26:51.473Z"
   },
   {
    "duration": 9,
    "start_time": "2022-10-22T16:26:54.046Z"
   },
   {
    "duration": 375,
    "start_time": "2022-10-22T16:26:57.306Z"
   },
   {
    "duration": 534,
    "start_time": "2022-10-22T16:27:00.093Z"
   },
   {
    "duration": 18,
    "start_time": "2022-10-22T16:27:02.278Z"
   },
   {
    "duration": 19,
    "start_time": "2022-10-22T16:27:04.817Z"
   },
   {
    "duration": 42,
    "start_time": "2022-10-22T16:27:09.051Z"
   },
   {
    "duration": 8,
    "start_time": "2022-10-22T16:27:10.955Z"
   },
   {
    "duration": 14,
    "start_time": "2022-10-22T16:27:19.972Z"
   },
   {
    "duration": 9,
    "start_time": "2022-10-22T16:27:22.601Z"
   },
   {
    "duration": 13,
    "start_time": "2022-10-22T16:27:27.764Z"
   },
   {
    "duration": 14,
    "start_time": "2022-10-22T16:27:30.120Z"
   },
   {
    "duration": 5,
    "start_time": "2022-10-22T16:27:35.141Z"
   },
   {
    "duration": 11,
    "start_time": "2022-10-22T16:27:37.634Z"
   },
   {
    "duration": 5,
    "start_time": "2022-10-22T16:27:41.737Z"
   },
   {
    "duration": 32,
    "start_time": "2022-10-22T16:27:42.939Z"
   },
   {
    "duration": 1185,
    "start_time": "2022-10-22T16:27:48.071Z"
   },
   {
    "duration": 1171,
    "start_time": "2022-10-22T16:27:57.819Z"
   },
   {
    "duration": 200,
    "start_time": "2022-10-22T16:28:37.343Z"
   },
   {
    "duration": 1282,
    "start_time": "2022-10-22T16:28:50.316Z"
   },
   {
    "duration": 78,
    "start_time": "2022-10-22T16:30:12.117Z"
   },
   {
    "duration": 81,
    "start_time": "2022-10-22T16:30:24.998Z"
   },
   {
    "duration": 97,
    "start_time": "2022-10-22T16:30:33.441Z"
   },
   {
    "duration": 28,
    "start_time": "2022-10-22T16:31:11.442Z"
   },
   {
    "duration": 1316,
    "start_time": "2022-10-22T16:31:22.006Z"
   },
   {
    "duration": 33,
    "start_time": "2022-10-22T16:34:20.509Z"
   },
   {
    "duration": 93,
    "start_time": "2022-10-22T16:35:24.367Z"
   },
   {
    "duration": 34,
    "start_time": "2022-10-22T16:35:41.697Z"
   },
   {
    "duration": 17,
    "start_time": "2022-10-22T16:35:51.173Z"
   },
   {
    "duration": 23,
    "start_time": "2022-10-22T16:35:59.286Z"
   },
   {
    "duration": 9,
    "start_time": "2022-10-22T16:36:02.638Z"
   },
   {
    "duration": 23,
    "start_time": "2022-10-22T16:38:50.123Z"
   },
   {
    "duration": 7,
    "start_time": "2022-10-22T16:38:54.805Z"
   },
   {
    "duration": 21,
    "start_time": "2022-10-22T16:39:04.059Z"
   },
   {
    "duration": 7,
    "start_time": "2022-10-22T16:39:05.067Z"
   },
   {
    "duration": 4,
    "start_time": "2022-10-22T16:39:11.060Z"
   },
   {
    "duration": 7,
    "start_time": "2022-10-22T16:39:14.952Z"
   },
   {
    "duration": 8,
    "start_time": "2022-10-22T16:39:18.748Z"
   },
   {
    "duration": 7,
    "start_time": "2022-10-22T16:39:21.437Z"
   },
   {
    "duration": 7,
    "start_time": "2022-10-22T16:39:24.808Z"
   },
   {
    "duration": 6,
    "start_time": "2022-10-22T16:39:27.188Z"
   },
   {
    "duration": 51,
    "start_time": "2022-10-22T16:39:30.083Z"
   },
   {
    "duration": 794,
    "start_time": "2022-10-22T16:39:45.564Z"
   },
   {
    "duration": 269,
    "start_time": "2022-10-22T16:41:44.072Z"
   },
   {
    "duration": 313,
    "start_time": "2022-10-22T16:42:10.340Z"
   },
   {
    "duration": 1250,
    "start_time": "2022-10-22T16:42:12.950Z"
   },
   {
    "duration": 294,
    "start_time": "2022-10-22T16:43:44.849Z"
   },
   {
    "duration": 277,
    "start_time": "2022-10-22T16:43:58.913Z"
   },
   {
    "duration": 1193,
    "start_time": "2022-10-22T16:44:02.952Z"
   },
   {
    "duration": 199,
    "start_time": "2022-10-22T16:44:14.000Z"
   },
   {
    "duration": 292,
    "start_time": "2022-10-22T16:44:19.192Z"
   },
   {
    "duration": 209,
    "start_time": "2022-10-22T16:44:22.984Z"
   },
   {
    "duration": 4,
    "start_time": "2022-10-22T16:44:26.535Z"
   },
   {
    "duration": 8,
    "start_time": "2022-10-22T16:44:28.543Z"
   },
   {
    "duration": 31,
    "start_time": "2022-10-22T16:44:32.822Z"
   },
   {
    "duration": 12,
    "start_time": "2022-10-22T16:44:36.672Z"
   },
   {
    "duration": 8,
    "start_time": "2022-10-22T16:44:39.672Z"
   },
   {
    "duration": 7,
    "start_time": "2022-10-22T16:46:54.051Z"
   },
   {
    "duration": 24,
    "start_time": "2022-10-22T16:46:58.222Z"
   },
   {
    "duration": 14,
    "start_time": "2022-10-22T16:46:58.843Z"
   },
   {
    "duration": 8,
    "start_time": "2022-10-22T16:46:59.710Z"
   },
   {
    "duration": 5,
    "start_time": "2022-10-22T16:49:30.376Z"
   },
   {
    "duration": 5,
    "start_time": "2022-10-22T16:51:35.692Z"
   },
   {
    "duration": 6,
    "start_time": "2022-10-22T16:53:38.422Z"
   },
   {
    "duration": 7,
    "start_time": "2022-10-22T16:58:40.375Z"
   },
   {
    "duration": 7,
    "start_time": "2022-10-22T16:59:38.706Z"
   },
   {
    "duration": 25,
    "start_time": "2022-10-22T17:04:21.276Z"
   },
   {
    "duration": 20,
    "start_time": "2022-10-22T17:04:23.478Z"
   },
   {
    "duration": 7,
    "start_time": "2022-10-22T17:04:26.840Z"
   },
   {
    "duration": 7,
    "start_time": "2022-10-22T20:08:01.995Z"
   },
   {
    "duration": 7,
    "start_time": "2022-10-22T20:09:29.944Z"
   },
   {
    "duration": 385,
    "start_time": "2022-10-24T08:06:26.229Z"
   },
   {
    "duration": 195,
    "start_time": "2022-10-24T08:06:27.716Z"
   },
   {
    "duration": 13,
    "start_time": "2022-10-24T08:06:29.479Z"
   },
   {
    "duration": 24,
    "start_time": "2022-10-24T08:06:32.681Z"
   },
   {
    "duration": 510,
    "start_time": "2022-10-24T08:06:35.953Z"
   },
   {
    "duration": 287,
    "start_time": "2022-10-24T08:06:39.063Z"
   },
   {
    "duration": 9,
    "start_time": "2022-10-24T08:06:41.250Z"
   },
   {
    "duration": 23,
    "start_time": "2022-10-24T08:06:44.884Z"
   },
   {
    "duration": 131,
    "start_time": "2022-10-24T08:06:46.482Z"
   },
   {
    "duration": 133,
    "start_time": "2022-10-24T08:06:50.384Z"
   },
   {
    "duration": 7,
    "start_time": "2022-10-24T08:06:51.848Z"
   },
   {
    "duration": 17,
    "start_time": "2022-10-24T08:06:54.594Z"
   },
   {
    "duration": 33,
    "start_time": "2022-10-24T08:06:58.761Z"
   },
   {
    "duration": 7,
    "start_time": "2022-10-24T08:07:00.201Z"
   },
   {
    "duration": 10,
    "start_time": "2022-10-24T08:07:07.370Z"
   },
   {
    "duration": 45,
    "start_time": "2022-10-24T08:07:09.975Z"
   },
   {
    "duration": 10,
    "start_time": "2022-10-24T08:07:13.701Z"
   },
   {
    "duration": 9,
    "start_time": "2022-10-24T08:07:17.700Z"
   },
   {
    "duration": 80,
    "start_time": "2022-10-24T08:07:22.189Z"
   },
   {
    "duration": 15,
    "start_time": "2022-10-24T08:07:23.260Z"
   },
   {
    "duration": 7,
    "start_time": "2022-10-24T08:07:26.275Z"
   },
   {
    "duration": 9,
    "start_time": "2022-10-24T08:07:32.046Z"
   },
   {
    "duration": 7,
    "start_time": "2022-10-24T08:07:33.774Z"
   },
   {
    "duration": 636,
    "start_time": "2022-10-24T08:07:36.436Z"
   },
   {
    "duration": 8,
    "start_time": "2022-10-24T08:07:37.088Z"
   },
   {
    "duration": 414,
    "start_time": "2022-10-24T08:07:41.025Z"
   },
   {
    "duration": 408,
    "start_time": "2022-10-24T08:07:43.609Z"
   },
   {
    "duration": 23,
    "start_time": "2022-10-24T08:07:47.056Z"
   },
   {
    "duration": 7,
    "start_time": "2022-10-24T08:07:48.549Z"
   },
   {
    "duration": 25,
    "start_time": "2022-10-24T08:07:52.856Z"
   },
   {
    "duration": 7,
    "start_time": "2022-10-24T08:07:53.870Z"
   },
   {
    "duration": 18,
    "start_time": "2022-10-24T08:08:02.901Z"
   },
   {
    "duration": 8,
    "start_time": "2022-10-24T08:08:03.212Z"
   },
   {
    "duration": 18,
    "start_time": "2022-10-24T08:08:04.092Z"
   },
   {
    "duration": 8,
    "start_time": "2022-10-24T08:08:04.567Z"
   },
   {
    "duration": 3,
    "start_time": "2022-10-24T08:08:05.927Z"
   },
   {
    "duration": 10,
    "start_time": "2022-10-24T08:08:07.058Z"
   },
   {
    "duration": 4,
    "start_time": "2022-10-24T08:08:07.630Z"
   },
   {
    "duration": 77,
    "start_time": "2022-10-24T08:08:08.145Z"
   },
   {
    "duration": 21,
    "start_time": "2022-10-24T08:08:11.007Z"
   },
   {
    "duration": 6,
    "start_time": "2022-10-24T08:08:12.136Z"
   },
   {
    "duration": 3,
    "start_time": "2022-10-24T08:08:14.145Z"
   },
   {
    "duration": 8,
    "start_time": "2022-10-24T08:08:15.269Z"
   },
   {
    "duration": 8,
    "start_time": "2022-10-24T08:08:16.950Z"
   },
   {
    "duration": 5,
    "start_time": "2022-10-24T08:08:18.545Z"
   },
   {
    "duration": 7,
    "start_time": "2022-10-24T08:08:19.979Z"
   },
   {
    "duration": 5,
    "start_time": "2022-10-24T08:08:22.158Z"
   },
   {
    "duration": 45,
    "start_time": "2022-10-24T08:08:23.670Z"
   },
   {
    "duration": 711,
    "start_time": "2022-10-24T08:08:26.170Z"
   },
   {
    "duration": 293,
    "start_time": "2022-10-24T08:08:29.115Z"
   },
   {
    "duration": 290,
    "start_time": "2022-10-24T08:08:34.872Z"
   },
   {
    "duration": 201,
    "start_time": "2022-10-24T08:08:41.733Z"
   },
   {
    "duration": 257,
    "start_time": "2022-10-24T08:08:48.988Z"
   },
   {
    "duration": 180,
    "start_time": "2022-10-24T08:08:52.246Z"
   },
   {
    "duration": 272,
    "start_time": "2022-10-24T08:08:59.314Z"
   },
   {
    "duration": 274,
    "start_time": "2022-10-24T08:09:05.105Z"
   },
   {
    "duration": 2,
    "start_time": "2022-10-24T08:09:09.575Z"
   },
   {
    "duration": 8,
    "start_time": "2022-10-24T08:09:10.638Z"
   },
   {
    "duration": 27,
    "start_time": "2022-10-24T08:09:13.877Z"
   },
   {
    "duration": 14,
    "start_time": "2022-10-24T08:09:14.794Z"
   },
   {
    "duration": 8,
    "start_time": "2022-10-24T08:09:15.564Z"
   },
   {
    "duration": 7,
    "start_time": "2022-10-24T08:34:05.875Z"
   },
   {
    "duration": 27,
    "start_time": "2022-10-24T08:34:14.962Z"
   },
   {
    "duration": 6,
    "start_time": "2022-10-24T08:34:17.438Z"
   },
   {
    "duration": 145,
    "start_time": "2022-10-24T08:34:32.796Z"
   },
   {
    "duration": 8,
    "start_time": "2022-10-24T08:34:34.757Z"
   },
   {
    "duration": 24,
    "start_time": "2022-10-24T08:34:38.043Z"
   },
   {
    "duration": 147,
    "start_time": "2022-10-24T08:34:41.156Z"
   },
   {
    "duration": 129,
    "start_time": "2022-10-24T08:34:45.155Z"
   },
   {
    "duration": 9,
    "start_time": "2022-10-24T08:34:50.027Z"
   },
   {
    "duration": 21,
    "start_time": "2022-10-24T08:34:53.918Z"
   },
   {
    "duration": 136,
    "start_time": "2022-10-24T08:40:52.836Z"
   },
   {
    "duration": 86,
    "start_time": "2022-10-24T08:40:55.928Z"
   },
   {
    "duration": 7,
    "start_time": "2022-10-24T08:40:57.687Z"
   },
   {
    "duration": 17,
    "start_time": "2022-10-24T08:41:00.945Z"
   },
   {
    "duration": 15,
    "start_time": "2022-10-24T08:41:03.111Z"
   },
   {
    "duration": 7,
    "start_time": "2022-10-24T08:41:04.675Z"
   },
   {
    "duration": 12,
    "start_time": "2022-10-24T08:41:08.863Z"
   },
   {
    "duration": 19,
    "start_time": "2022-10-24T08:41:11.226Z"
   },
   {
    "duration": 8,
    "start_time": "2022-10-24T08:41:12.573Z"
   },
   {
    "duration": 11,
    "start_time": "2022-10-24T08:41:26.968Z"
   },
   {
    "duration": 66,
    "start_time": "2022-10-24T08:41:30.482Z"
   },
   {
    "duration": 17,
    "start_time": "2022-10-24T08:41:35.737Z"
   },
   {
    "duration": 5,
    "start_time": "2022-10-24T08:41:40.882Z"
   },
   {
    "duration": 9,
    "start_time": "2022-10-24T08:41:45.614Z"
   },
   {
    "duration": 7,
    "start_time": "2022-10-24T08:41:48.800Z"
   },
   {
    "duration": 648,
    "start_time": "2022-10-24T08:41:52.197Z"
   },
   {
    "duration": 8,
    "start_time": "2022-10-24T08:41:55.298Z"
   },
   {
    "duration": 358,
    "start_time": "2022-10-24T08:41:58.448Z"
   },
   {
    "duration": 520,
    "start_time": "2022-10-24T08:42:00.809Z"
   },
   {
    "duration": 25,
    "start_time": "2022-10-24T08:42:03.705Z"
   },
   {
    "duration": 28,
    "start_time": "2022-10-24T08:43:01.527Z"
   },
   {
    "duration": 8,
    "start_time": "2022-10-24T08:43:06.536Z"
   },
   {
    "duration": 18,
    "start_time": "2022-10-24T08:43:21.834Z"
   },
   {
    "duration": 9,
    "start_time": "2022-10-24T08:43:24.671Z"
   },
   {
    "duration": 16,
    "start_time": "2022-10-24T08:43:29.126Z"
   },
   {
    "duration": 10,
    "start_time": "2022-10-24T08:43:31.058Z"
   },
   {
    "duration": 4,
    "start_time": "2022-10-24T08:43:36.488Z"
   },
   {
    "duration": 12,
    "start_time": "2022-10-24T08:43:38.983Z"
   },
   {
    "duration": 34,
    "start_time": "2022-10-24T08:43:41.788Z"
   },
   {
    "duration": 20,
    "start_time": "2022-10-24T08:43:45.718Z"
   },
   {
    "duration": 8,
    "start_time": "2022-10-24T08:43:47.574Z"
   },
   {
    "duration": 4,
    "start_time": "2022-10-24T08:43:51.003Z"
   },
   {
    "duration": 8,
    "start_time": "2022-10-24T08:43:52.793Z"
   },
   {
    "duration": 8,
    "start_time": "2022-10-24T08:44:10.238Z"
   },
   {
    "duration": 4,
    "start_time": "2022-10-24T08:44:12.895Z"
   },
   {
    "duration": 6,
    "start_time": "2022-10-24T08:44:15.955Z"
   },
   {
    "duration": 5,
    "start_time": "2022-10-24T08:44:17.983Z"
   },
   {
    "duration": 46,
    "start_time": "2022-10-24T08:44:20.158Z"
   },
   {
    "duration": 280,
    "start_time": "2022-10-24T08:44:23.529Z"
   },
   {
    "duration": 277,
    "start_time": "2022-10-24T08:44:38.718Z"
   },
   {
    "duration": 273,
    "start_time": "2022-10-24T08:44:49.717Z"
   },
   {
    "duration": 273,
    "start_time": "2022-10-24T08:44:53.525Z"
   },
   {
    "duration": 249,
    "start_time": "2022-10-24T08:45:10.767Z"
   },
   {
    "duration": 264,
    "start_time": "2022-10-24T08:45:21.484Z"
   },
   {
    "duration": 198,
    "start_time": "2022-10-24T08:45:25.125Z"
   },
   {
    "duration": 3,
    "start_time": "2022-10-24T08:45:28.426Z"
   },
   {
    "duration": 6,
    "start_time": "2022-10-24T08:45:30.111Z"
   },
   {
    "duration": 21,
    "start_time": "2022-10-24T08:45:34.190Z"
   },
   {
    "duration": 8,
    "start_time": "2022-10-24T08:45:40.698Z"
   },
   {
    "duration": 19,
    "start_time": "2022-10-24T08:45:48.745Z"
   },
   {
    "duration": 13,
    "start_time": "2022-10-24T08:45:51.404Z"
   },
   {
    "duration": 9,
    "start_time": "2022-10-24T08:45:53.386Z"
   },
   {
    "duration": 13,
    "start_time": "2022-10-24T08:51:01.736Z"
   },
   {
    "duration": 10,
    "start_time": "2022-10-24T08:51:19.254Z"
   },
   {
    "duration": 15,
    "start_time": "2022-10-24T08:54:01.655Z"
   },
   {
    "duration": 28,
    "start_time": "2022-10-24T09:12:22.922Z"
   },
   {
    "duration": 9,
    "start_time": "2022-10-24T09:12:25.498Z"
   },
   {
    "duration": 4,
    "start_time": "2022-10-24T09:12:27.441Z"
   },
   {
    "duration": 12,
    "start_time": "2022-10-24T09:12:28.125Z"
   },
   {
    "duration": 1200,
    "start_time": "2022-10-24T09:12:29.114Z"
   },
   {
    "duration": 5,
    "start_time": "2022-10-24T09:12:30.728Z"
   },
   {
    "duration": 1212,
    "start_time": "2022-10-24T09:12:36.877Z"
   },
   {
    "duration": 20,
    "start_time": "2022-10-24T09:13:09.557Z"
   },
   {
    "duration": 11,
    "start_time": "2022-10-24T09:13:10.284Z"
   },
   {
    "duration": 18,
    "start_time": "2022-10-24T09:13:12.684Z"
   },
   {
    "duration": 9,
    "start_time": "2022-10-24T09:13:13.543Z"
   },
   {
    "duration": 4,
    "start_time": "2022-10-24T09:13:15.377Z"
   },
   {
    "duration": 11,
    "start_time": "2022-10-24T09:13:16.535Z"
   },
   {
    "duration": 5,
    "start_time": "2022-10-24T09:13:17.073Z"
   },
   {
    "duration": 36,
    "start_time": "2022-10-24T09:13:17.985Z"
   },
   {
    "duration": 20,
    "start_time": "2022-10-24T09:13:20.144Z"
   },
   {
    "duration": 7,
    "start_time": "2022-10-24T09:13:21.083Z"
   },
   {
    "duration": 3,
    "start_time": "2022-10-24T09:13:22.244Z"
   },
   {
    "duration": 10,
    "start_time": "2022-10-24T09:13:23.749Z"
   },
   {
    "duration": 10,
    "start_time": "2022-10-24T09:13:26.304Z"
   },
   {
    "duration": 7,
    "start_time": "2022-10-24T09:13:31.379Z"
   },
   {
    "duration": 5,
    "start_time": "2022-10-24T09:13:34.046Z"
   },
   {
    "duration": 8,
    "start_time": "2022-10-24T09:13:39.068Z"
   },
   {
    "duration": 5,
    "start_time": "2022-10-24T09:13:40.068Z"
   },
   {
    "duration": 58,
    "start_time": "2022-10-24T09:13:41.139Z"
   },
   {
    "duration": 295,
    "start_time": "2022-10-24T09:13:42.548Z"
   },
   {
    "duration": 334,
    "start_time": "2022-10-24T09:13:42.969Z"
   },
   {
    "duration": 291,
    "start_time": "2022-10-24T09:13:43.939Z"
   },
   {
    "duration": 209,
    "start_time": "2022-10-24T09:13:44.376Z"
   },
   {
    "duration": 237,
    "start_time": "2022-10-24T09:13:45.892Z"
   },
   {
    "duration": 190,
    "start_time": "2022-10-24T09:13:46.378Z"
   },
   {
    "duration": 308,
    "start_time": "2022-10-24T09:13:47.820Z"
   },
   {
    "duration": 361,
    "start_time": "2022-10-24T09:13:48.771Z"
   },
   {
    "duration": 3,
    "start_time": "2022-10-24T09:13:50.732Z"
   },
   {
    "duration": 7,
    "start_time": "2022-10-24T09:13:51.405Z"
   },
   {
    "duration": 21,
    "start_time": "2022-10-24T09:13:53.121Z"
   },
   {
    "duration": 13,
    "start_time": "2022-10-24T09:13:53.593Z"
   },
   {
    "duration": 9,
    "start_time": "2022-10-24T09:13:54.140Z"
   }
  ],
  "kernelspec": {
   "display_name": "Python 3 (ipykernel)",
   "language": "python",
   "name": "python3"
  },
  "language_info": {
   "codemirror_mode": {
    "name": "ipython",
    "version": 3
   },
   "file_extension": ".py",
   "mimetype": "text/x-python",
   "name": "python",
   "nbconvert_exporter": "python",
   "pygments_lexer": "ipython3",
   "version": "3.9.5"
  },
  "toc": {
   "base_numbering": 1,
   "nav_menu": {},
   "number_sections": true,
   "sideBar": true,
   "skip_h1_title": true,
   "title_cell": "Table of Contents",
   "title_sidebar": "Contents",
   "toc_cell": false,
   "toc_position": {},
   "toc_section_display": true,
   "toc_window_display": false
  }
 },
 "nbformat": 4,
 "nbformat_minor": 2
}
